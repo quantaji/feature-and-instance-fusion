{
 "cells": [
  {
   "cell_type": "code",
   "execution_count": 1,
   "metadata": {},
   "outputs": [],
   "source": [
    "import os\n",
    "import sys\n",
    "\n",
    "import numpy as np\n",
    "import torch\n",
    "\n",
    "module_path = os.path.abspath(os.path.join(\"..\"))\n",
    "if module_path not in sys.path:\n",
    "    sys.path.append(module_path)\n",
    "\n",
    "from core.integrate import PanopticFusionScalableTSDFVolume\n"
   ]
  },
  {
   "cell_type": "code",
   "execution_count": 2,
   "metadata": {},
   "outputs": [],
   "source": [
    "device = \"cuda:0\"\n",
    "\n",
    "tsdf_volume = PanopticFusionScalableTSDFVolume(\n",
    "    voxel_size=0.015,\n",
    "    sdf_trunc=0.075,\n",
    "    margin=0.08,\n",
    "    device=device,\n",
    ")\n",
    "\n",
    "panoptic_tsdf_volume = PanopticFusionScalableTSDFVolume(\n",
    "    voxel_size=0.015,\n",
    "    sdf_trunc=0.075,\n",
    "    margin=0.08,\n",
    "    device=device,\n",
    ")\n"
   ]
  },
  {
   "cell_type": "code",
   "execution_count": 3,
   "metadata": {},
   "outputs": [],
   "source": [
    "scene_dir = \"/scratch/quanta/Experiments/feature-instance-fusion-02/scannet_scene0000_00/\"\n",
    "\n",
    "save_dir = scene_dir + \"tsdf_label_extend_grounded_sam/\"\n",
    "label_pth = save_dir + \"labels.pt\"\n",
    "\n",
    "tsdf_volume.load(scene_dir + 'tsdf/tsdf_volume_unpruned.pt')\n",
    "tsdf_volume.load_instance(label_pth)\n",
    "\n",
    "panoptic_label_pth = scene_dir + 'tsdf_panoptic_grounded_sam/panoptic_labels.pt'\n",
    "panoptic_tsdf_volume.load(scene_dir + 'tsdf/tsdf_volume_unpruned.pt')\n",
    "panoptic_tsdf_volume.load_instance(panoptic_label_pth)\n"
   ]
  },
  {
   "cell_type": "code",
   "execution_count": 4,
   "metadata": {},
   "outputs": [],
   "source": [
    "scan_dir = \"/scratch/quanta/Datasets/ScanNet/scans/scene0000_00/\"\n",
    "\n",
    "low_res_ply_pth = scan_dir + \"scene0000_00_vh_clean_2.ply\"\n",
    "low_res_segs_pth = scan_dir + \"scene0000_00_vh_clean_2.0.010000.segs.json\"\n",
    "low_res_instance_pth = scan_dir + \"scene0000_00.aggregation.json\"\n",
    "\n",
    "high_res_ply_pth = scan_dir + \"scene0000_00_vh_clean.ply\"\n",
    "high_res_segs_pth = scan_dir + \"scene0000_00_vh_clean.segs.json\"\n",
    "high_res_instance_pth = scan_dir + \"scene0000_00_vh_clean.aggregation.json\"\n"
   ]
  },
  {
   "cell_type": "code",
   "execution_count": 5,
   "metadata": {},
   "outputs": [],
   "source": [
    "from plyfile import PlyData\n"
   ]
  },
  {
   "cell_type": "code",
   "execution_count": 6,
   "metadata": {},
   "outputs": [],
   "source": [
    "low_res_ply = PlyData.read(low_res_ply_pth)\n",
    "low_res_verts = np.vstack(\n",
    "            [\n",
    "                low_res_ply[\"vertex\"].data[\"x\"],\n",
    "                low_res_ply[\"vertex\"].data[\"y\"],\n",
    "                low_res_ply[\"vertex\"].data[\"z\"],\n",
    "            ]\n",
    "        ).transpose()\n",
    "low_res_faces = np.vstack(low_res_ply[\"face\"].data[\"vertex_indices\"])\n"
   ]
  },
  {
   "cell_type": "code",
   "execution_count": 7,
   "metadata": {},
   "outputs": [],
   "source": [
    "high_res_ply = PlyData.read(high_res_ply_pth)\n",
    "high_res_verts = np.vstack(\n",
    "            [\n",
    "                high_res_ply[\"vertex\"].data[\"x\"],\n",
    "                high_res_ply[\"vertex\"].data[\"y\"],\n",
    "                high_res_ply[\"vertex\"].data[\"z\"],\n",
    "            ]\n",
    "        ).transpose()\n",
    "high_res_faces = np.vstack(high_res_ply[\"face\"].data[\"vertex_indices\"])\n"
   ]
  },
  {
   "cell_type": "code",
   "execution_count": 8,
   "metadata": {},
   "outputs": [],
   "source": [
    "color_set = np.random.random(size=(high_res_verts.shape[0] + 2, 3))\n",
    "color_set[0, :] = 0.0\n"
   ]
  },
  {
   "cell_type": "code",
   "execution_count": 9,
   "metadata": {},
   "outputs": [],
   "source": [
    "import open3d as o3d\n",
    "\n",
    "low_res_mesh = o3d.geometry.TriangleMesh(\n",
    "    vertices=o3d.utility.Vector3dVector(low_res_verts),\n",
    "    triangles=o3d.utility.Vector3iVector(low_res_faces),\n",
    ")\n",
    "low_res_mesh_labels = tsdf_volume.extract_label_on_grid(verts=low_res_verts, device=device)[0]\n",
    "low_res_color = color_set[low_res_mesh_labels]\n",
    "low_res_mesh.vertex_colors = o3d.utility.Vector3dVector(low_res_color)\n",
    "# o3d.io.write_triangle_mesh(filename=\"low_res_instance_color.ply\", mesh=low_res_mesh)\n",
    "\n",
    "# np.save('low_res_mesh_labels.npy', low_res_mesh_labels)\n"
   ]
  },
  {
   "cell_type": "code",
   "execution_count": 10,
   "metadata": {},
   "outputs": [],
   "source": [
    "high_res_mesh = o3d.geometry.TriangleMesh(\n",
    "    vertices=o3d.utility.Vector3dVector(high_res_verts),\n",
    "    triangles=o3d.utility.Vector3iVector(high_res_faces),\n",
    ")\n",
    "high_res_mesh_labels = tsdf_volume.extract_label_on_grid(verts=high_res_verts, device=device)[0]\n",
    "high_res_color = color_set[high_res_mesh_labels]\n",
    "high_res_mesh.vertex_colors = o3d.utility.Vector3dVector(high_res_color)\n",
    "# o3d.io.write_triangle_mesh(filename=\"high_res_instance_color.ply\", mesh=high_res_mesh)\n",
    "\n",
    "# np.save('high_res_mesh_labels.npy', high_res_mesh_labels)\n"
   ]
  },
  {
   "cell_type": "code",
   "execution_count": 11,
   "metadata": {},
   "outputs": [],
   "source": [
    "panoptic_low_res_mesh = o3d.geometry.TriangleMesh(\n",
    "    vertices=o3d.utility.Vector3dVector(low_res_verts),\n",
    "    triangles=o3d.utility.Vector3iVector(low_res_faces),\n",
    ")\n",
    "panoptic_low_res_mesh_labels = panoptic_tsdf_volume.extract_label_on_grid(verts=low_res_verts, device=device)[0]\n",
    "panoptic_low_res_color = color_set[panoptic_low_res_mesh_labels]\n",
    "panoptic_low_res_mesh.vertex_colors = o3d.utility.Vector3dVector(panoptic_low_res_color)\n",
    "# o3d.io.write_triangle_mesh(filename=\"panoptic_low_res_instance_color.ply\", mesh=panoptic_low_res_mesh)\n",
    "\n",
    "# np.save('panoptic_low_res_mesh_labels.npy', panoptic_low_res_mesh_labels)\n"
   ]
  },
  {
   "cell_type": "code",
   "execution_count": 12,
   "metadata": {},
   "outputs": [],
   "source": [
    "panoptic_high_res_mesh = o3d.geometry.TriangleMesh(\n",
    "    vertices=o3d.utility.Vector3dVector(high_res_verts),\n",
    "    triangles=o3d.utility.Vector3iVector(high_res_faces),\n",
    ")\n",
    "panoptic_high_res_mesh_labels = panoptic_tsdf_volume.extract_label_on_grid(verts=high_res_verts, device=device)[0]\n",
    "panoptic_high_res_color = color_set[panoptic_high_res_mesh_labels]\n",
    "panoptic_high_res_mesh.vertex_colors = o3d.utility.Vector3dVector(panoptic_high_res_color)\n",
    "# o3d.io.write_triangle_mesh(filename=\"panoptic_high_res_instance_color.ply\", mesh=panoptic_high_res_mesh)\n",
    "\n",
    "# np.save('panoptic_high_res_mesh_labels.npy', panoptic_high_res_mesh_labels)\n"
   ]
  },
  {
   "cell_type": "markdown",
   "metadata": {},
   "source": [
    "# load ground truth instance segmentation"
   ]
  },
  {
   "cell_type": "code",
   "execution_count": 13,
   "metadata": {},
   "outputs": [],
   "source": [
    "import json\n",
    "with open(low_res_segs_pth) as f:\n",
    "    low_res_segs = np.array(json.load(f)['segIndices'])\n",
    "\n",
    "low_res_mesh = o3d.geometry.TriangleMesh(\n",
    "    vertices=o3d.utility.Vector3dVector(low_res_verts),\n",
    "    triangles=o3d.utility.Vector3iVector(low_res_faces),\n",
    ")\n",
    "low_res_mesh_labels = tsdf_volume.extract_label_on_grid(verts=low_res_verts, device=device)[0]\n",
    "low_res_color = color_set[low_res_segs]\n",
    "low_res_mesh.vertex_colors = o3d.utility.Vector3dVector(low_res_color)\n",
    "# o3d.io.write_triangle_mesh(filename=\"low_res_over_seg_color.ply\", mesh=low_res_mesh)\n"
   ]
  },
  {
   "cell_type": "code",
   "execution_count": 14,
   "metadata": {},
   "outputs": [],
   "source": [
    "low_res_instance_id = np.zeros(shape=(low_res_verts.shape[0],), dtype=int)\n",
    "low_res_instance_id_to_label = {}\n",
    "with open(low_res_instance_pth) as f:\n",
    "    a = json.load(f)\n",
    "    for segs in a[\"segGroups\"]:\n",
    "        low_res_instance_id[segs[\"segments\"]] = segs[\"objectId\"] + 1\n",
    "        low_res_instance_id_to_label[segs[\"objectId\"] + 1] = segs[\"label\"]\n",
    "\n",
    "low_res_gt_instance_id = low_res_instance_id[low_res_segs]\n",
    "\n",
    "low_res_mesh = o3d.geometry.TriangleMesh(\n",
    "    vertices=o3d.utility.Vector3dVector(low_res_verts),\n",
    "    triangles=o3d.utility.Vector3iVector(low_res_faces),\n",
    ")\n",
    "low_res_mesh_labels = tsdf_volume.extract_label_on_grid(verts=low_res_verts, device=device)[0]\n",
    "low_res_color = color_set[low_res_gt_instance_id]\n",
    "low_res_mesh.vertex_colors = o3d.utility.Vector3dVector(low_res_color)\n",
    "# o3d.io.write_triangle_mesh(filename=\"low_res_instance_seg_color.ply\", mesh=low_res_mesh)\n"
   ]
  },
  {
   "cell_type": "code",
   "execution_count": 15,
   "metadata": {},
   "outputs": [],
   "source": [
    "import json\n",
    "with open(high_res_segs_pth) as f:\n",
    "    high_res_segs = np.array(json.load(f)['segIndices'])\n",
    "\n",
    "high_res_mesh = o3d.geometry.TriangleMesh(\n",
    "    vertices=o3d.utility.Vector3dVector(high_res_verts),\n",
    "    triangles=o3d.utility.Vector3iVector(high_res_faces),\n",
    ")\n",
    "high_res_color = color_set[high_res_segs]\n",
    "high_res_mesh.vertex_colors = o3d.utility.Vector3dVector(high_res_color)\n",
    "# o3d.io.write_triangle_mesh(filename=\"high_res_over_seg_color.ply\", mesh=high_res_mesh)\n"
   ]
  },
  {
   "cell_type": "code",
   "execution_count": 16,
   "metadata": {},
   "outputs": [],
   "source": [
    "high_res_instance_id = np.zeros(shape=(high_res_verts.shape[0],), dtype=int)\n",
    "high_res_instance_id_to_label = {}\n",
    "with open(low_res_instance_pth) as f:\n",
    "    a = json.load(f)\n",
    "    for segs in a[\"segGroups\"]:\n",
    "        high_res_instance_id[segs[\"segments\"]] = segs[\"objectId\"] + 1\n",
    "        high_res_instance_id_to_label[segs[\"objectId\"] + 1] = segs[\"label\"]\n",
    "\n",
    "high_res_gt_instance_id = high_res_instance_id[high_res_segs]\n",
    "\n",
    "high_res_mesh = o3d.geometry.TriangleMesh(\n",
    "    vertices=o3d.utility.Vector3dVector(high_res_verts),\n",
    "    triangles=o3d.utility.Vector3iVector(high_res_faces),\n",
    ")\n",
    "high_res_color = color_set[high_res_gt_instance_id]\n",
    "high_res_mesh.vertex_colors = o3d.utility.Vector3dVector(high_res_color)\n",
    "# o3d.io.write_triangle_mesh(filename=\"high_res_instance_seg_color.ply\", mesh=high_res_mesh)\n"
   ]
  },
  {
   "cell_type": "markdown",
   "metadata": {},
   "source": [
    "## number of objectes for two methods and ground truth"
   ]
  },
  {
   "cell_type": "code",
   "execution_count": 17,
   "metadata": {},
   "outputs": [
    {
     "data": {
      "text/plain": [
       "(68, 424, 837)"
      ]
     },
     "execution_count": 17,
     "metadata": {},
     "output_type": "execute_result"
    }
   ],
   "source": [
    "np.unique(high_res_gt_instance_id).shape[0], np.unique(high_res_mesh_labels).shape[0], np.unique(panoptic_high_res_mesh_labels).shape[0]\n"
   ]
  },
  {
   "cell_type": "markdown",
   "metadata": {},
   "source": [
    "### Naviely compute IoU\n",
    "\n",
    "later, we should merge instance with high IoPred to the instance, since there is a many to one correspondence\n"
   ]
  },
  {
   "cell_type": "code",
   "execution_count": 18,
   "metadata": {},
   "outputs": [],
   "source": [
    "gt_instance = torch.from_numpy(high_res_gt_instance_id).unique(sorted=True, return_inverse=True)[1].numpy()\n",
    "graph_connect_instance = torch.from_numpy(high_res_mesh_labels).unique(sorted=True, return_inverse=True)[1].numpy()\n",
    "panoptic_instance = torch.from_numpy(panoptic_high_res_mesh_labels).unique(sorted=True, return_inverse=True)[1].numpy()\n"
   ]
  },
  {
   "cell_type": "code",
   "execution_count": 19,
   "metadata": {},
   "outputs": [],
   "source": [
    "device = 'cuda:0'\n",
    "torch.cuda.empty_cache()\n",
    "gt_one_hot = torch.nn.functional.one_hot(torch.from_numpy(gt_instance).to(device))\n",
    "graph_one_hot = torch.nn.functional.one_hot(torch.from_numpy(graph_connect_instance).to(device))\n",
    "panoptic_one_hot = torch.nn.functional.one_hot(torch.from_numpy(panoptic_instance).to(device))\n"
   ]
  },
  {
   "cell_type": "code",
   "execution_count": 22,
   "metadata": {},
   "outputs": [
    {
     "name": "stderr",
     "output_type": "stream",
     "text": [
      "100%|██████████| 68/68 [00:00<00:00, 76.41it/s] \n",
      "100%|██████████| 68/68 [00:00<00:00, 77.57it/s] \n",
      "100%|██████████| 68/68 [00:04<00:00, 14.68it/s]\n",
      "100%|██████████| 68/68 [00:04<00:00, 15.61it/s] \n"
     ]
    }
   ],
   "source": [
    "from tqdm import tqdm\n",
    "\n",
    "graph_I = torch.cat([(graph_one_hot * mask.reshape(-1, 1)).count_nonzero(dim=0).reshape(1, -1) for mask in tqdm(gt_one_hot.movedim(0, -1))], dim=0).cpu()\n",
    "graph_U = torch.cat([(graph_one_hot + mask.reshape(-1, 1)).count_nonzero(dim=0).reshape(1, -1) for mask in tqdm(gt_one_hot.movedim(0, -1))], dim=0).cpu()\n",
    "\n",
    "torch.cuda.empty_cache()\n",
    "\n",
    "panoptic_I = torch.cat([(panoptic_one_hot * mask.reshape(-1, 1)).count_nonzero(dim=0).reshape(1, -1) for mask in tqdm(gt_one_hot.movedim(0, -1))], dim=0).cpu()\n",
    "panoptic_U = torch.cat([(panoptic_one_hot + mask.reshape(-1, 1)).count_nonzero(dim=0).reshape(1, -1) for mask in tqdm(gt_one_hot.movedim(0, -1))], dim=0).cpu()\n",
    "\n",
    "torch.cuda.empty_cache()\n"
   ]
  },
  {
   "cell_type": "code",
   "execution_count": 38,
   "metadata": {},
   "outputs": [],
   "source": [
    "graph_IoU = graph_I / graph_U\n",
    "panoptic_IoU = panoptic_I / panoptic_U\n",
    "\n",
    "graph_IoS = graph_I / graph_one_hot.count_nonzero(dim=0).reshape(1, -1).cpu()\n",
    "panoptic_IoS = panoptic_I / panoptic_one_hot.count_nonzero(dim=0).reshape(1, -1).cpu()\n"
   ]
  },
  {
   "cell_type": "code",
   "execution_count": 29,
   "metadata": {},
   "outputs": [],
   "source": [
    "torch.save(graph_IoU, 'graph_IoU.pt')\n",
    "torch.save(panoptic_IoU, 'panoptic_IoU.pt')\n"
   ]
  },
  {
   "cell_type": "code",
   "execution_count": 30,
   "metadata": {},
   "outputs": [],
   "source": [
    "graph_max, graph_argmax = graph_IoU.max(dim=1)\n",
    "panoptic_max, panoptic_argmax = panoptic_IoU.max(dim=1)\n"
   ]
  },
  {
   "cell_type": "code",
   "execution_count": 34,
   "metadata": {},
   "outputs": [
    {
     "data": {
      "text/plain": [
       "tensor(0.5588)"
      ]
     },
     "execution_count": 34,
     "metadata": {},
     "output_type": "execute_result"
    }
   ],
   "source": [
    "(graph_max > panoptic_max).float().mean()\n"
   ]
  },
  {
   "cell_type": "code",
   "execution_count": 35,
   "metadata": {},
   "outputs": [
    {
     "data": {
      "text/plain": [
       "(tensor(0.4602), tensor(0.4809))"
      ]
     },
     "execution_count": 35,
     "metadata": {},
     "output_type": "execute_result"
    }
   ],
   "source": [
    "graph_max.mean(), panoptic_max.mean()\n"
   ]
  },
  {
   "cell_type": "code",
   "execution_count": 43,
   "metadata": {},
   "outputs": [
    {
     "data": {
      "text/plain": [
       "(tensor(1.), tensor(1.))"
      ]
     },
     "execution_count": 43,
     "metadata": {},
     "output_type": "execute_result"
    }
   ],
   "source": [
    "graph_IoS.max(), panoptic_IoS.max()\n"
   ]
  },
  {
   "cell_type": "code",
   "execution_count": null,
   "metadata": {},
   "outputs": [],
   "source": []
  }
 ],
 "metadata": {
  "kernelspec": {
   "display_name": "feat-seg-fusion",
   "language": "python",
   "name": "python3"
  },
  "language_info": {
   "codemirror_mode": {
    "name": "ipython",
    "version": 3
   },
   "file_extension": ".py",
   "mimetype": "text/x-python",
   "name": "python",
   "nbconvert_exporter": "python",
   "pygments_lexer": "ipython3",
   "version": "3.10.4"
  }
 },
 "nbformat": 4,
 "nbformat_minor": 2
}
