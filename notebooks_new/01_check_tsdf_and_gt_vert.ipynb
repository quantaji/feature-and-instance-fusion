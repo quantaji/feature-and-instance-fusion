{
 "cells": [
  {
   "cell_type": "code",
   "execution_count": 2,
   "metadata": {},
   "outputs": [],
   "source": [
    "import os\n",
    "import sys\n",
    "\n",
    "\n",
    "module_path = os.path.abspath(os.path.join(\"..\"))\n",
    "if module_path not in sys.path:\n",
    "    sys.path.append(module_path)\n"
   ]
  },
  {
   "cell_type": "code",
   "execution_count": 3,
   "metadata": {},
   "outputs": [],
   "source": [
    "import numpy as np\n",
    "import torch\n",
    "from skimage import measure\n",
    "from tqdm import tqdm, trange\n",
    "\n",
    "from core.dataset import ScanNet\n",
    "from core.integrate import ScalableTSDFVolume, FeatureFusionScalableTSDFVolume\n"
   ]
  },
  {
   "cell_type": "code",
   "execution_count": 5,
   "metadata": {},
   "outputs": [],
   "source": [
    "tsdf_device = 'cuda:0'\n",
    "tsdf_volume = FeatureFusionScalableTSDFVolume(\n",
    "    voxel_size=0.015,\n",
    "    sdf_trunc=0.075,\n",
    "    margin=0.08,\n",
    "    device=tsdf_device,\n",
    ")\n"
   ]
  },
  {
   "cell_type": "code",
   "execution_count": 17,
   "metadata": {},
   "outputs": [],
   "source": [
    "tsdf_load_dir = '/scratch/quanta/Experiments/feature-instance-fusion/scannet_scene0000_00/tsdf/'\n",
    "scan_dir = '/scratch/quanta/Datasets/ScanNet/scans/scene0000_00/'\n",
    "\n",
    "tsdf_pth = tsdf_load_dir + 'tsdf_volume.pt'\n",
    "tsdf_unpruned_pth = tsdf_load_dir + 'tsdf_volume_unpruned.pt'\n",
    "\n",
    "color_path = '/scratch/quanta/Experiments/feature-instance-fusion/scannet_scene0000_00/tsdf_feature_color/feats.pt'\n",
    "\n",
    "gt_verts_high_res = scan_dir + 'scene0000_00_vh_clean.ply'\n",
    "gt_verts_low_res = scan_dir + 'scene0000_00_vh_clean_2.ply'\n"
   ]
  },
  {
   "cell_type": "code",
   "execution_count": 20,
   "metadata": {},
   "outputs": [],
   "source": [
    "from plyfile import PlyData\n",
    "import numpy as np\n",
    "\n",
    "low_res_ply = PlyData.read(gt_verts_low_res)\n",
    "low_res_verts = np.vstack(\n",
    "    [\n",
    "        low_res_ply[\"vertex\"].data[\"x\"],\n",
    "        low_res_ply[\"vertex\"].data[\"y\"],\n",
    "        low_res_ply[\"vertex\"].data[\"z\"],\n",
    "    ]\n",
    ").transpose()\n",
    "low_res_faces = np.vstack(low_res_ply[\"face\"].data[\"vertex_indices\"])\n",
    "\n",
    "high_res_ply = PlyData.read(gt_verts_high_res)\n",
    "high_res_verts = np.vstack(\n",
    "    [\n",
    "        high_res_ply[\"vertex\"].data[\"x\"],\n",
    "        high_res_ply[\"vertex\"].data[\"y\"],\n",
    "        high_res_ply[\"vertex\"].data[\"z\"],\n",
    "    ]\n",
    ").transpose()\n",
    "high_res_faces = np.vstack(high_res_ply[\"face\"].data[\"vertex_indices\"])\n"
   ]
  },
  {
   "cell_type": "code",
   "execution_count": 7,
   "metadata": {},
   "outputs": [],
   "source": [
    "tsdf_volume.load(tsdf_pth)\n",
    "tsdf_volume.load_feats(color_path)\n"
   ]
  },
  {
   "cell_type": "code",
   "execution_count": 8,
   "metadata": {},
   "outputs": [],
   "source": [
    "verts, faces = tsdf_volume.extract_mesh()\n"
   ]
  },
  {
   "cell_type": "code",
   "execution_count": 14,
   "metadata": {},
   "outputs": [],
   "source": [
    "colors = tsdf_volume.extract_feat_on_grid(verts)[0]\n"
   ]
  },
  {
   "cell_type": "code",
   "execution_count": 15,
   "metadata": {},
   "outputs": [],
   "source": [
    "import open3d as o3d\n",
    "\n",
    "mesh = o3d.geometry.TriangleMesh(\n",
    "    vertices=o3d.utility.Vector3dVector(verts),\n",
    "    triangles=o3d.utility.Vector3iVector(faces),\n",
    ")\n",
    "mesh.vertex_colors = o3d.utility.Vector3dVector(colors)\n"
   ]
  },
  {
   "cell_type": "code",
   "execution_count": 16,
   "metadata": {},
   "outputs": [
    {
     "data": {
      "text/plain": [
       "True"
      ]
     },
     "execution_count": 16,
     "metadata": {},
     "output_type": "execute_result"
    }
   ],
   "source": [
    "o3d.io.write_triangle_mesh('output.ply', mesh)\n"
   ]
  },
  {
   "cell_type": "markdown",
   "metadata": {},
   "source": [
    "## Calculate the percentage of vertex in tsdf volume\n",
    "### Unpruned"
   ]
  },
  {
   "cell_type": "code",
   "execution_count": 23,
   "metadata": {},
   "outputs": [
    {
     "data": {
      "text/plain": [
       "((81369, 3), (1990518, 3))"
      ]
     },
     "execution_count": 23,
     "metadata": {},
     "output_type": "execute_result"
    }
   ],
   "source": [
    "low_res_verts.shape, high_res_verts.shape\n"
   ]
  },
  {
   "cell_type": "code",
   "execution_count": 26,
   "metadata": {},
   "outputs": [],
   "source": [
    "from core.integrate.utils.voxel_ops import discretize_3d, discrete2hash\n",
    "import torch\n",
    "\n",
    "tsdf_volume_unpruned = ScalableTSDFVolume(\n",
    "    voxel_size=0.015,\n",
    "    sdf_trunc=0.075,\n",
    "    margin=0.08,\n",
    "    device=tsdf_device,\n",
    ")\n",
    "tsdf_volume_unpruned.load(tsdf_unpruned_pth)\n",
    "\n",
    "low_res_hash = discrete2hash(discretize_3d(torch.from_numpy(low_res_verts).to(tsdf_device), voxel_size=tsdf_volume.voxel_size, voxel_origin=tsdf_volume._vol_origin))\n",
    "\n",
    "high_res_hash = discrete2hash(\n",
    "    discretize_3d(torch.from_numpy(high_res_verts).to(tsdf_device),\n",
    "                  voxel_size=tsdf_volume.voxel_size,\n",
    "                  voxel_origin=tsdf_volume._vol_origin))\n"
   ]
  },
  {
   "cell_type": "code",
   "execution_count": 31,
   "metadata": {},
   "outputs": [
    {
     "data": {
      "text/plain": [
       "(0.9349998235702515, 0.9483813047409058)"
      ]
     },
     "execution_count": 31,
     "metadata": {},
     "output_type": "execute_result"
    }
   ],
   "source": [
    "torch.isin(low_res_hash, tsdf_volume_unpruned._voxel_hash).float().mean().item(), torch.isin(high_res_hash, tsdf_volume_unpruned._voxel_hash).float().mean().item()\n"
   ]
  },
  {
   "cell_type": "markdown",
   "metadata": {},
   "source": [
    "### Pruned"
   ]
  },
  {
   "cell_type": "code",
   "execution_count": 32,
   "metadata": {},
   "outputs": [],
   "source": [
    "tsdf_volume_pruned = ScalableTSDFVolume(\n",
    "    voxel_size=0.015,\n",
    "    sdf_trunc=0.075,\n",
    "    margin=0.08,\n",
    "    device=tsdf_device,\n",
    ")\n",
    "tsdf_volume_pruned.load(tsdf_pth)\n"
   ]
  },
  {
   "cell_type": "code",
   "execution_count": 33,
   "metadata": {},
   "outputs": [
    {
     "data": {
      "text/plain": [
       "(0.7820914387702942, 0.8118645548820496)"
      ]
     },
     "execution_count": 33,
     "metadata": {},
     "output_type": "execute_result"
    }
   ],
   "source": [
    "torch.isin(low_res_hash, tsdf_volume_pruned._voxel_hash).float().mean().item(), torch.isin(high_res_hash, tsdf_volume_pruned._voxel_hash).float().mean().item()\n"
   ]
  },
  {
   "cell_type": "code",
   "execution_count": null,
   "metadata": {},
   "outputs": [],
   "source": []
  }
 ],
 "metadata": {
  "kernelspec": {
   "display_name": "feat-seg-fusion",
   "language": "python",
   "name": "python3"
  },
  "language_info": {
   "codemirror_mode": {
    "name": "ipython",
    "version": 3
   },
   "file_extension": ".py",
   "mimetype": "text/x-python",
   "name": "python",
   "nbconvert_exporter": "python",
   "pygments_lexer": "ipython3",
   "version": "3.10.4"
  }
 },
 "nbformat": 4,
 "nbformat_minor": 2
}
