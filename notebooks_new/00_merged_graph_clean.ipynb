{
 "cells": [
  {
   "cell_type": "markdown",
   "metadata": {},
   "source": [
    "### remove labels where little semantics are assigned to the patch"
   ]
  },
  {
   "cell_type": "code",
   "execution_count": 1,
   "metadata": {},
   "outputs": [],
   "source": [
    "scan_dir = \"/scratch/quanta/Experiments/feature-instance-fusion-02/scannet_scene0000_00/\"\n"
   ]
  },
  {
   "cell_type": "code",
   "execution_count": 2,
   "metadata": {},
   "outputs": [],
   "source": [
    "import os \n",
    "patch_dir = scan_dir + 'patch_corres_ext-grounded_sam_kmeans-ext-random_grounded_sam'\n",
    "names = os.listdir(patch_dir)\n",
    "names.sort()\n"
   ]
  },
  {
   "cell_type": "code",
   "execution_count": 3,
   "metadata": {},
   "outputs": [],
   "source": [
    "import numpy as np\n",
    "import torch\n",
    "\n",
    "merged_label_mapping_pth = scan_dir + \"graph_connect_etx-grounded_sam_kmeans-ext-random_grounded_sam_SVP/patch_to_label_mapping.pt\"\n",
    "label_mapping = torch.load(merged_label_mapping_pth)\n"
   ]
  },
  {
   "cell_type": "code",
   "execution_count": 4,
   "metadata": {},
   "outputs": [
    {
     "name": "stderr",
     "output_type": "stream",
     "text": [
      "100%|██████████| 5577/5577 [00:31<00:00, 174.93it/s]\n"
     ]
    }
   ],
   "source": [
    "from tqdm import tqdm\n",
    "counts = torch.zeros(size=(label_mapping.unique().shape[0],), dtype=torch.int64)\n",
    "\n",
    "for name in tqdm(names):\n",
    "    patch_corres = torch.load(patch_dir + '/' + name)['patch_corres']\n",
    "\n",
    "    for corres in patch_corres:\n",
    "        if corres['most_likely_maskid'] != 0:\n",
    "            counts[label_mapping[corres['patch_id']]] += 1\n"
   ]
  },
  {
   "cell_type": "code",
   "execution_count": 5,
   "metadata": {},
   "outputs": [
    {
     "data": {
      "text/plain": [
       "(array([ 1.,  0.,  0.,  0.,  0.,  0.,  0.,  0.,  0.,  0.,  0.,  0.,  0.,\n",
       "         0.,  0.,  1.,  0.,  5.,  1.,  4.,  1.,  8., 11.,  8., 11., 12.,\n",
       "        17., 28., 21., 23., 20., 30., 54., 40., 49., 61., 51., 20.,  9.,\n",
       "         8.,  5.,  6.,  4.,  2.,  2.,  3.,  1.,  0.,  0.,  1.]),\n",
       " array([-4.60517019, -4.3019698 , -3.99876942, -3.69556904, -3.39236865,\n",
       "        -3.08916827, -2.78596788, -2.4827675 , -2.17956712, -1.87636673,\n",
       "        -1.57316635, -1.26996597, -0.96676558, -0.6635652 , -0.36036482,\n",
       "        -0.05716443,  0.24603595,  0.54923633,  0.85243672,  1.1556371 ,\n",
       "         1.45883749,  1.76203787,  2.06523825,  2.36843864,  2.67163902,\n",
       "         2.9748394 ,  3.27803979,  3.58124017,  3.88444055,  4.18764094,\n",
       "         4.49084132,  4.79404171,  5.09724209,  5.40044247,  5.70364286,\n",
       "         6.00684324,  6.31004362,  6.61324401,  6.91644439,  7.21964477,\n",
       "         7.52284516,  7.82604554,  8.12924592,  8.43244631,  8.73564669,\n",
       "         9.03884708,  9.34204746,  9.64524784,  9.94844823, 10.25164861,\n",
       "        10.55484899]),\n",
       " <BarContainer object of 50 artists>)"
      ]
     },
     "execution_count": 5,
     "metadata": {},
     "output_type": "execute_result"
    },
    {
     "data": {
      "image/png": "[encoded data removed]",
      "text/plain": [
       "<Figure size 640x480 with 1 Axes>"
      ]
     },
     "metadata": {},
     "output_type": "display_data"
    }
   ],
   "source": [
    "import matplotlib.pyplot as plt\n",
    "\n",
    "plt.hist(np.log(np.array(counts) + 0.01), bins=50)\n",
    "# plt.hist(np.array(counts), bins=20)\n"
   ]
  },
  {
   "cell_type": "code",
   "execution_count": 27,
   "metadata": {},
   "outputs": [
    {
     "data": {
      "text/plain": [
       "tensor([ True, False, False,  ..., False, False, False])"
      ]
     },
     "execution_count": 27,
     "metadata": {},
     "output_type": "execute_result"
    }
   ],
   "source": [
    "label_mapping[counts[label_mapping] == 0] = 0\n"
   ]
  },
  {
   "cell_type": "code",
   "execution_count": null,
   "metadata": {},
   "outputs": [],
   "source": []
  }
 ],
 "metadata": {
  "kernelspec": {
   "display_name": "feat-seg-fusion",
   "language": "python",
   "name": "python3"
  },
  "language_info": {
   "codemirror_mode": {
    "name": "ipython",
    "version": 3
   },
   "file_extension": ".py",
   "mimetype": "text/x-python",
   "name": "python",
   "nbconvert_exporter": "python",
   "pygments_lexer": "ipython3",
   "version": "3.10.4"
  }
 },
 "nbformat": 4,
 "nbformat_minor": 2
}
