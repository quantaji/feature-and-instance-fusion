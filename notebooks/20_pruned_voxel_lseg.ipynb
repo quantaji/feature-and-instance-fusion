{
 "cells": [
  {
   "cell_type": "code",
   "execution_count": 1,
   "metadata": {},
   "outputs": [],
   "source": [
    "import os\n",
    "import sys\n",
    "\n",
    "os.environ[\"CUDA_DEVICE_ORDER\"] = \"PCI_BUS_ID\"\n",
    "\n",
    "module_path = os.path.abspath(os.path.join(\"..\"))\n",
    "if module_path not in sys.path:\n",
    "    sys.path.append(module_path)"
   ]
  },
  {
   "cell_type": "code",
   "execution_count": 2,
   "metadata": {},
   "outputs": [],
   "source": [
    "import json\n",
    "\n",
    "import matplotlib.pyplot as plt\n",
    "import numpy as np\n",
    "import open3d as o3d\n",
    "import torch\n",
    "from PIL import Image\n",
    "\n",
    "from core.integrate import FeatureFusionScalableTSDFVolume\n",
    "from core.dataset import ScanNet\n",
    "from core.labeler import CLIPTextQuerier, KMeansLabeler"
   ]
  },
  {
   "cell_type": "code",
   "execution_count": 3,
   "metadata": {},
   "outputs": [],
   "source": [
    "scene = \"scannet_scene0000_00\"\n",
    "load_dir = \"/home/quanta/Experiments/feature-instance-fusion/\" + scene + \"/\""
   ]
  },
  {
   "cell_type": "code",
   "execution_count": 4,
   "metadata": {},
   "outputs": [],
   "source": [
    "device = \"cpu\"\n",
    "tsdf_volume_unpruned = FeatureFusionScalableTSDFVolume(\n",
    "    voxel_size=0.015,\n",
    "    sdf_trunc=0.075,\n",
    "    margin=0.08,\n",
    "    device=device,\n",
    ")\n",
    "tsdf_volume_unpruned.load(load_dir + \"tsdf/tsdf_volume_unpruned.pt\")\n",
    "tsdf_volume_unpruned.load_feats(load_dir + \"tsdf_feature_lseg/feats.pt\")\n",
    "\n",
    "tsdf_volume = FeatureFusionScalableTSDFVolume(\n",
    "    voxel_size=0.015,\n",
    "    sdf_trunc=0.075,\n",
    "    margin=0.08,\n",
    "    device=device,\n",
    ")\n",
    "tsdf_volume.load(load_dir + \"tsdf/tsdf_volume.pt\")"
   ]
  },
  {
   "cell_type": "code",
   "execution_count": 5,
   "metadata": {},
   "outputs": [
    {
     "data": {
      "text/plain": [
       "tensor(1.)"
      ]
     },
     "execution_count": 5,
     "metadata": {},
     "output_type": "execute_result"
    }
   ],
   "source": [
    "torch.isin(tsdf_volume._voxel_hash, tsdf_volume_unpruned._voxel_hash).float().min()"
   ]
  },
  {
   "cell_type": "code",
   "execution_count": 6,
   "metadata": {},
   "outputs": [],
   "source": [
    "unique_hash, indices = torch.cat([tsdf_volume_unpruned._voxel_hash, tsdf_volume._voxel_hash]).unique(sorted=True, return_inverse=True)"
   ]
  },
  {
   "cell_type": "code",
   "execution_count": 7,
   "metadata": {},
   "outputs": [
    {
     "data": {
      "text/plain": [
       "tensor(1.)"
      ]
     },
     "execution_count": 7,
     "metadata": {},
     "output_type": "execute_result"
    }
   ],
   "source": [
    "(indices[: tsdf_volume_unpruned.num_voxel] == torch.arange(tsdf_volume_unpruned.num_voxel, device=device)).float().min()"
   ]
  },
  {
   "cell_type": "code",
   "execution_count": 8,
   "metadata": {},
   "outputs": [],
   "source": [
    "tsdf_volume.reset_feature(dim=512, include_var=False, dtype=torch.float32)"
   ]
  },
  {
   "cell_type": "code",
   "execution_count": 9,
   "metadata": {},
   "outputs": [],
   "source": [
    "tsdf_volume._feat = tsdf_volume_unpruned._feat[indices]\n",
    "tsdf_volume._feat_w_sum = tsdf_volume_unpruned._feat_w_sum[indices]"
   ]
  },
  {
   "cell_type": "code",
   "execution_count": 10,
   "metadata": {},
   "outputs": [
    {
     "name": "stdout",
     "output_type": "stream",
     "text": [
      "/home/quanta/Experiments/feature-instance-fusion/scannet_scene0000_00/tsdf_feature_lseg_pruned/\n"
     ]
    }
   ],
   "source": [
    "save_dir = load_dir + \"tsdf_feature_lseg_pruned\" + \"/\"\n",
    "print(save_dir)"
   ]
  },
  {
   "cell_type": "code",
   "execution_count": 11,
   "metadata": {},
   "outputs": [],
   "source": [
    "tsdf_volume.save_feats(save_dir + \"feats.pt\")"
   ]
  },
  {
   "cell_type": "code",
   "execution_count": null,
   "metadata": {},
   "outputs": [],
   "source": []
  }
 ],
 "metadata": {
  "kernelspec": {
   "display_name": "Python 3",
   "language": "python",
   "name": "python3"
  },
  "language_info": {
   "codemirror_mode": {
    "name": "ipython",
    "version": 3
   },
   "file_extension": ".py",
   "mimetype": "text/x-python",
   "name": "python",
   "nbconvert_exporter": "python",
   "pygments_lexer": "ipython3",
   "version": "3.10.4"
  },
  "orig_nbformat": 4
 },
 "nbformat": 4,
 "nbformat_minor": 2
}
