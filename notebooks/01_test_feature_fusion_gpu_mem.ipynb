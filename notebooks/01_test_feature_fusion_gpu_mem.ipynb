{
 "cells": [
  {
   "cell_type": "code",
   "execution_count": null,
   "metadata": {},
   "outputs": [],
   "source": [
    "import os\n",
    "import sys\n",
    "\n",
    "os.environ[\"CUDA_DEVICE_ORDER\"] = \"PCI_BUS_ID\"\n",
    "\n",
    "module_path = os.path.abspath(os.path.join(\"..\"))\n",
    "if module_path not in sys.path:\n",
    "    sys.path.append(module_path)"
   ]
  },
  {
   "cell_type": "code",
   "execution_count": null,
   "metadata": {},
   "outputs": [],
   "source": [
    "import numpy as np\n",
    "import torch\n",
    "from skimage import measure\n",
    "from tqdm import tqdm, trange\n",
    "\n",
    "from core.dataset import ScanNet\n",
    "from core.integrate import  FeatureFusionScalableTSDFVolume"
   ]
  },
  {
   "cell_type": "code",
   "execution_count": null,
   "metadata": {},
   "outputs": [],
   "source": [
    "dataset = ScanNet('/home/quanta/Datasets/ScanNet/')\n",
    "scan_id = 'scene0000_00'\n",
    "id = dataset.scan_id_list.index(scan_id)\n",
    "single_instance = dataset[id]['scan_dataset']"
   ]
  },
  {
   "cell_type": "code",
   "execution_count": null,
   "metadata": {},
   "outputs": [],
   "source": [
    "H, W = single_instance.color_height, single_instance.color_width"
   ]
  },
  {
   "cell_type": "code",
   "execution_count": null,
   "metadata": {},
   "outputs": [],
   "source": [
    "tsdf_device = 'cuda:1'\n",
    "tsdf_volume = FeatureFusionScalableTSDFVolume(\n",
    "    voxel_size=0.015,\n",
    "    sdf_trunc=0.075,\n",
    "    margin=0.08,\n",
    "    device=tsdf_device,\n",
    ")\n"
   ]
  },
  {
   "cell_type": "code",
   "execution_count": null,
   "metadata": {},
   "outputs": [],
   "source": [
    "save_dir = '/home/quanta/Experiments/feature-instance-fusion/scannet_scene0000_00/'\n",
    "tsdf_volume.load(save_dir + 'tsdf/tsdf_vol.pt')"
   ]
  },
  {
   "cell_type": "code",
   "execution_count": null,
   "metadata": {},
   "outputs": [],
   "source": [
    "torch.cuda.empty_cache()\n",
    "dim=1024\n",
    "dtype=torch.float16\n",
    "tsdf_volume.reset_feature(dim=dim, include_var=False, dtype=dtype)"
   ]
  },
  {
   "cell_type": "code",
   "execution_count": null,
   "metadata": {},
   "outputs": [],
   "source": [
    "indent = 1\n",
    "for idx in trange(0, len(single_instance), indent):\n",
    "    # for idx in trange(0, 500, indent):\n",
    "    inputs = single_instance.get_torch_tensor(\n",
    "        idx,\n",
    "        device=tsdf_device,\n",
    "        keys={\n",
    "            \"depth\",\n",
    "            \"depth_intr\",\n",
    "            \"pose\",\n",
    "            \"color_intr\",\n",
    "        },\n",
    "    )\n",
    "    fake_feat = torch.randn(size=(H, W, dim), dtype=dtype, device=tsdf_device)\n",
    "\n",
    "    tsdf_volume.integrate_feature_with_exsisting_voxel(\n",
    "        feat_img=fake_feat,\n",
    "        feat_intr=inputs[\"color_intr\"],\n",
    "        depth=inputs[\"depth\"],\n",
    "        depth_intr=inputs[\"depth_intr\"],\n",
    "        cam_pose=inputs[\"pose\"],\n",
    "    )"
   ]
  },
  {
   "cell_type": "code",
   "execution_count": null,
   "metadata": {},
   "outputs": [],
   "source": [
    "# 11.303g vram use, good! for dim=512 and float32\n",
    "# 19.304g for dim=1024 and float 32\n",
    "# 10.542g vram for dim=1024 and float16"
   ]
  },
  {
   "cell_type": "code",
   "execution_count": null,
   "metadata": {},
   "outputs": [],
   "source": [
    "# integrate color\n",
    "torch.cuda.empty_cache()\n",
    "dim=3\n",
    "dtype=torch.float32\n",
    "tsdf_volume.reset_feature(dim=dim, include_var=False, dtype=dtype)"
   ]
  },
  {
   "cell_type": "code",
   "execution_count": null,
   "metadata": {},
   "outputs": [],
   "source": [
    "indent = 1\n",
    "for idx in trange(0, len(single_instance), indent):\n",
    "    # for idx in trange(0, 500, indent):\n",
    "    inputs = single_instance.get_torch_tensor(\n",
    "        idx,\n",
    "        device=tsdf_device,\n",
    "        keys={\n",
    "            \"depth\",\n",
    "            \"depth_intr\",\n",
    "            \"pose\",\n",
    "            \"color_intr\",\n",
    "            \"color\",\n",
    "        },\n",
    "    )\n",
    "\n",
    "    tsdf_volume.integrate_feature_with_exsisting_voxel(\n",
    "        feat_img=inputs[\"color\"],\n",
    "        feat_intr=inputs[\"color_intr\"],\n",
    "        feat_original_h=H,\n",
    "        feat_original_w=W,\n",
    "        depth=inputs[\"depth\"],\n",
    "        depth_intr=inputs[\"depth_intr\"],\n",
    "        cam_pose=inputs[\"pose\"],\n",
    "    )"
   ]
  },
  {
   "cell_type": "code",
   "execution_count": null,
   "metadata": {},
   "outputs": [],
   "source": [
    "os.makedirs(save_dir + 'color', exist_ok=True)\n",
    "tsdf_volume.save_feats(save_dir + 'color/color_feats.pt')"
   ]
  },
  {
   "cell_type": "code",
   "execution_count": null,
   "metadata": {},
   "outputs": [],
   "source": [
    "verts = np.load(save_dir + 'tsdf/verts.npy')\n",
    "faces = np.load(save_dir + 'tsdf/faces.npy')"
   ]
  },
  {
   "cell_type": "code",
   "execution_count": null,
   "metadata": {},
   "outputs": [],
   "source": [
    "color = tsdf_volume.extract_feat_on_grid(verts=verts)[0]"
   ]
  },
  {
   "cell_type": "code",
   "execution_count": null,
   "metadata": {},
   "outputs": [],
   "source": [
    "np.save(save_dir + 'color/color.npy', color)"
   ]
  },
  {
   "cell_type": "code",
   "execution_count": null,
   "metadata": {},
   "outputs": [],
   "source": [
    "import open3d as o3d\n",
    "\n",
    "draw = o3d.visualization.EV.draw\n",
    "mesh = o3d.geometry.TriangleMesh(\n",
    "    vertices=o3d.utility.Vector3dVector(verts),\n",
    "    triangles=o3d.utility.Vector3iVector(faces),\n",
    ")\n",
    "mesh.vertex_colors = o3d.utility.Vector3dVector(color)"
   ]
  },
  {
   "cell_type": "code",
   "execution_count": null,
   "metadata": {},
   "outputs": [],
   "source": [
    "draw([mesh])"
   ]
  },
  {
   "cell_type": "code",
   "execution_count": null,
   "metadata": {},
   "outputs": [],
   "source": []
  }
 ],
 "metadata": {
  "kernelspec": {
   "display_name": "feat-seg-fusion",
   "language": "python",
   "name": "python3"
  },
  "language_info": {
   "codemirror_mode": {
    "name": "ipython",
    "version": 3
   },
   "file_extension": ".py",
   "mimetype": "text/x-python",
   "name": "python",
   "nbconvert_exporter": "python",
   "pygments_lexer": "ipython3",
   "version": "3.10.4"
  },
  "orig_nbformat": 4
 },
 "nbformat": 4,
 "nbformat_minor": 2
}
