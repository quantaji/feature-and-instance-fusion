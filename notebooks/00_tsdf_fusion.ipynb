{
 "cells": [
  {
   "cell_type": "code",
   "execution_count": 1,
   "metadata": {},
   "outputs": [],
   "source": [
    "import os\n",
    "import sys\n",
    "\n",
    "os.environ[\"CUDA_DEVICE_ORDER\"] = \"PCI_BUS_ID\"\n",
    "\n",
    "module_path = os.path.abspath(os.path.join(\"..\"))\n",
    "if module_path not in sys.path:\n",
    "    sys.path.append(module_path)"
   ]
  },
  {
   "cell_type": "code",
   "execution_count": 2,
   "metadata": {},
   "outputs": [
    {
     "name": "stdout",
     "output_type": "stream",
     "text": [
      "Jupyter environment detected. Enabling Open3D WebVisualizer.\n",
      "[Open3D INFO] WebRTC GUI backend enabled.\n",
      "[Open3D INFO] WebRTCWindowSystem: HTTP handshake server disabled.\n"
     ]
    }
   ],
   "source": [
    "import numpy as np\n",
    "import torch\n",
    "from skimage import measure\n",
    "from tqdm import tqdm, trange\n",
    "\n",
    "from core.dataset import ScanNet\n",
    "from core.integrate import ScalableTSDFVolume"
   ]
  },
  {
   "cell_type": "code",
   "execution_count": 3,
   "metadata": {},
   "outputs": [],
   "source": [
    "dataset = ScanNet('/home/quanta/Datasets/ScanNet/')\n",
    "scan_id = 'scene0000_00'\n",
    "id = dataset.scan_id_list.index(scan_id)\n",
    "single_instance = dataset[id]['scan_dataset']"
   ]
  },
  {
   "cell_type": "code",
   "execution_count": 4,
   "metadata": {},
   "outputs": [],
   "source": [
    "tsdf_device = 'cuda:1'\n",
    "tsdf_volume = ScalableTSDFVolume(\n",
    "    voxel_size=0.015,\n",
    "    sdf_trunc=0.075,\n",
    "    margin=0.08,\n",
    "    device=tsdf_device,\n",
    ")"
   ]
  },
  {
   "cell_type": "code",
   "execution_count": 5,
   "metadata": {},
   "outputs": [],
   "source": [
    "save_dir = '/home/quanta/Experiments/feature-instance-fusion/scannet_scene0000_00/'\n",
    "os.makedirs(save_dir, exist_ok=True)"
   ]
  },
  {
   "cell_type": "code",
   "execution_count": 6,
   "metadata": {},
   "outputs": [
    {
     "name": "stderr",
     "output_type": "stream",
     "text": [
      "100%|██████████| 5578/5578 [06:04<00:00, 15.31it/s]\n"
     ]
    }
   ],
   "source": [
    "indent = 1\n",
    "for idx in trange(0, len(single_instance), indent):\n",
    "# for idx in trange(0, 500, indent):\n",
    "    inputs = single_instance.get_torch_tensor(idx, device=tsdf_device, keys={\"depth\", \"depth_intr\", \"pose\"})\n",
    "    tsdf_volume.integrate_tsdf(\n",
    "        depth=inputs[\"depth\"],\n",
    "        depth_intr=inputs[\"depth_intr\"],\n",
    "        cam_pose=inputs[\"pose\"],\n",
    "    )\n",
    "\n",
    "tsdf_volume.prune_voxel()\n",
    "tsdf_volume.save(save_dir + 'tsdf/tsdf_vol.pt')\n",
    "\n",
    "# tsdf_volume.load(save_dir + 'tsdf/tsdf_vol.pt')"
   ]
  },
  {
   "cell_type": "code",
   "execution_count": null,
   "metadata": {},
   "outputs": [],
   "source": [
    "verts, faces = tsdf_volume.extract_mesh()\n",
    "np.save(save_dir + 'tsdf/verts.npy', verts)\n",
    "np.save(save_dir + 'tsdf/faces.npy', faces)"
   ]
  },
  {
   "cell_type": "code",
   "execution_count": null,
   "metadata": {},
   "outputs": [],
   "source": [
    "import open3d as o3d\n",
    "\n",
    "draw = o3d.visualization.EV.draw\n",
    "mesh = o3d.geometry.TriangleMesh(\n",
    "    vertices=o3d.utility.Vector3dVector(verts),\n",
    "    triangles=o3d.utility.Vector3iVector(faces),\n",
    ")"
   ]
  },
  {
   "cell_type": "code",
   "execution_count": null,
   "metadata": {},
   "outputs": [],
   "source": [
    "mesh.compute_vertex_normals()"
   ]
  },
  {
   "cell_type": "code",
   "execution_count": null,
   "metadata": {},
   "outputs": [],
   "source": [
    "draw([mesh])"
   ]
  }
 ],
 "metadata": {
  "kernelspec": {
   "display_name": "feat-seg-fusion",
   "language": "python",
   "name": "python3"
  },
  "language_info": {
   "codemirror_mode": {
    "name": "ipython",
    "version": 3
   },
   "file_extension": ".py",
   "mimetype": "text/x-python",
   "name": "python",
   "nbconvert_exporter": "python",
   "pygments_lexer": "ipython3",
   "version": "3.10.4"
  },
  "orig_nbformat": 4
 },
 "nbformat": 4,
 "nbformat_minor": 2
}
