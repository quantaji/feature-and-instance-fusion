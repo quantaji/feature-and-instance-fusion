{
 "cells": [
  {
   "cell_type": "code",
   "execution_count": 1,
   "metadata": {},
   "outputs": [],
   "source": [
    "import os\n",
    "import sys\n",
    "\n",
    "os.environ[\"CUDA_DEVICE_ORDER\"] = \"PCI_BUS_ID\"\n",
    "\n",
    "module_path = os.path.abspath(os.path.join(\"..\"))\n",
    "if module_path not in sys.path:\n",
    "    sys.path.append(module_path)"
   ]
  },
  {
   "cell_type": "code",
   "execution_count": 2,
   "metadata": {},
   "outputs": [],
   "source": [
    "import numpy as np\n",
    "import torch\n",
    "from skimage import measure\n",
    "from tqdm import tqdm, trange\n",
    "\n",
    "from core.dataset import ScanNet\n",
    "from core.integrate import ScalableTSDFVolume\n",
    "from core.integrate.utils import discrete2hash, discrete2world, discretize_3d, hash2discrete, floor_3d"
   ]
  },
  {
   "cell_type": "code",
   "execution_count": 3,
   "metadata": {},
   "outputs": [],
   "source": [
    "# test if voxel_size = 0.01 and margin = 0.36 works, sdf_trunc = 0.04"
   ]
  },
  {
   "cell_type": "code",
   "execution_count": 4,
   "metadata": {},
   "outputs": [],
   "source": [
    "dataset = ScanNet('/home/quanta/Datasets/ScanNet/')\n",
    "scan_id = 'scene0000_00'\n",
    "id = dataset.scan_id_list.index(scan_id)\n",
    "single_instance = dataset[id]['scan_dataset']"
   ]
  },
  {
   "cell_type": "code",
   "execution_count": 5,
   "metadata": {},
   "outputs": [],
   "source": [
    "tsdf_device = 'cuda:1'\n",
    "tsdf_volume = ScalableTSDFVolume(\n",
    "    voxel_size=0.01,\n",
    "    sdf_trunc=0.04,\n",
    "    margin=0.36,\n",
    "    device=tsdf_device,\n",
    ")"
   ]
  },
  {
   "cell_type": "code",
   "execution_count": 6,
   "metadata": {},
   "outputs": [
    {
     "name": "stderr",
     "output_type": "stream",
     "text": [
      "100%|██████████| 5578/5578 [08:10<00:00, 11.37it/s]\n"
     ]
    }
   ],
   "source": [
    "indent = 1\n",
    "for idx in trange(0, len(single_instance), indent):\n",
    "# for idx in trange(0, 500, indent):\n",
    "    inputs = single_instance.get_torch_tensor(idx, device=tsdf_device, keys={\"depth\", \"depth_intr\", \"pose\"})\n",
    "    tsdf_volume.integrate_tsdf(\n",
    "        depth=inputs[\"depth\"],\n",
    "        depth_intr=inputs[\"depth_intr\"],\n",
    "        cam_pose=inputs[\"pose\"],\n",
    "    )"
   ]
  },
  {
   "cell_type": "code",
   "execution_count": 8,
   "metadata": {},
   "outputs": [
    {
     "name": "stdout",
     "output_type": "stream",
     "text": [
      "73236092\n"
     ]
    }
   ],
   "source": [
    "# 2.343G mem use\n",
    "print(tsdf_volume.num_voxel)"
   ]
  },
  {
   "cell_type": "code",
   "execution_count": 9,
   "metadata": {},
   "outputs": [],
   "source": [
    "tsdf_volume.prune_voxel()\n",
    "torch.cuda.empty_cache()\n",
    "# drops to 1.879 G mem use"
   ]
  },
  {
   "cell_type": "code",
   "execution_count": 11,
   "metadata": {},
   "outputs": [
    {
     "name": "stdout",
     "output_type": "stream",
     "text": [
      "4838648\n"
     ]
    }
   ],
   "source": [
    "print(tsdf_volume.num_voxel)"
   ]
  },
  {
   "cell_type": "code",
   "execution_count": 18,
   "metadata": {},
   "outputs": [],
   "source": [
    "a = torch.zeros(\n",
    "    size=(4838648, 512), dtype=torch.float32, device='cuda:1'\n",
    ") #18.965g"
   ]
  },
  {
   "cell_type": "code",
   "execution_count": 19,
   "metadata": {},
   "outputs": [],
   "source": [
    "torch.cuda.empty_cache()"
   ]
  },
  {
   "cell_type": "code",
   "execution_count": 21,
   "metadata": {},
   "outputs": [
    {
     "data": {
      "text/plain": [
       "9.228988647460938"
      ]
     },
     "execution_count": 21,
     "metadata": {},
     "output_type": "execute_result"
    }
   ],
   "source": [
    "4838648 * 512 * 4 / 1024 / 1024 / 1024"
   ]
  },
  {
   "cell_type": "code",
   "execution_count": null,
   "metadata": {},
   "outputs": [],
   "source": []
  }
 ],
 "metadata": {
  "kernelspec": {
   "display_name": "feat-seg-fusion",
   "language": "python",
   "name": "python3"
  },
  "language_info": {
   "codemirror_mode": {
    "name": "ipython",
    "version": 3
   },
   "file_extension": ".py",
   "mimetype": "text/x-python",
   "name": "python",
   "nbconvert_exporter": "python",
   "pygments_lexer": "ipython3",
   "version": "3.10.4"
  },
  "orig_nbformat": 4
 },
 "nbformat": 4,
 "nbformat_minor": 2
}
