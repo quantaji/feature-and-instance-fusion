{
 "cells": [
  {
   "cell_type": "code",
   "execution_count": 1,
   "metadata": {},
   "outputs": [],
   "source": [
    "import os\n",
    "import sys\n",
    "\n",
    "os.environ[\"CUDA_DEVICE_ORDER\"] = \"PCI_BUS_ID\"\n",
    "\n",
    "module_path = os.path.abspath(os.path.join(\"..\"))\n",
    "if module_path not in sys.path:\n",
    "    sys.path.append(module_path)"
   ]
  },
  {
   "cell_type": "code",
   "execution_count": 2,
   "metadata": {},
   "outputs": [],
   "source": [
    "import numpy as np\n",
    "import open3d as o3d\n",
    "import torch\n",
    "\n",
    "# from core.dataset import ScanNet\n",
    "from core.integrate import FeatureFusionScalableTSDFVolume\n",
    "\n",
    "# from skimage import measure\n",
    "# from tqdm import tqdm, trange"
   ]
  },
  {
   "cell_type": "code",
   "execution_count": 3,
   "metadata": {},
   "outputs": [],
   "source": [
    "tsdf_device = 'cuda:1'\n",
    "tsdf_volume = FeatureFusionScalableTSDFVolume(\n",
    "    voxel_size=0.015,\n",
    "    sdf_trunc=0.075,\n",
    "    margin=0.08,\n",
    "    device='cpu',\n",
    ")\n",
    "save_dir = '/Users/quanta/Downloads/feat-instance-fusion/scannet_scene0000_00/'\n",
    "tsdf_volume.load(save_dir + 'tsdf/tsdf_volume.pt')"
   ]
  },
  {
   "cell_type": "code",
   "execution_count": 4,
   "metadata": {},
   "outputs": [],
   "source": [
    "verts = np.load(save_dir + 'tsdf/verts.npy')\n",
    "faces = np.load(save_dir + 'tsdf/faces.npy')"
   ]
  },
  {
   "cell_type": "code",
   "execution_count": 5,
   "metadata": {},
   "outputs": [
    {
     "ename": "IndexError",
     "evalue": "index is out of bounds for dimension with size 0",
     "output_type": "error",
     "traceback": [
      "\u001b[0;31m---------------------------------------------------------------------------\u001b[0m",
      "\u001b[0;31mIndexError\u001b[0m                                Traceback (most recent call last)",
      "\u001b[1;32m/Users/quanta/Downloads/feat-instance-fusion-code-repo/notebooks/13_choose_visualization_view.ipynb 单元格 5\u001b[0m line \u001b[0;36m1\n\u001b[0;32m----> <a href='vscode-notebook-cell:/Users/quanta/Downloads/feat-instance-fusion-code-repo/notebooks/13_choose_visualization_view.ipynb#W4sZmlsZQ%3D%3D?line=0'>1</a>\u001b[0m tsdf_volume\u001b[39m.\u001b[39;49mextract_feat_on_grid(verts\u001b[39m=\u001b[39;49mverts)[\u001b[39m0\u001b[39m]\n",
      "File \u001b[0;32m/usr/local/Caskroom/miniconda/base/envs/feat-seg-fusion/lib/python3.10/site-packages/torch/utils/_contextlib.py:115\u001b[0m, in \u001b[0;36mcontext_decorator.<locals>.decorate_context\u001b[0;34m(*args, **kwargs)\u001b[0m\n\u001b[1;32m    112\u001b[0m \u001b[39m@functools\u001b[39m\u001b[39m.\u001b[39mwraps(func)\n\u001b[1;32m    113\u001b[0m \u001b[39mdef\u001b[39;00m \u001b[39mdecorate_context\u001b[39m(\u001b[39m*\u001b[39margs, \u001b[39m*\u001b[39m\u001b[39m*\u001b[39mkwargs):\n\u001b[1;32m    114\u001b[0m     \u001b[39mwith\u001b[39;00m ctx_factory():\n\u001b[0;32m--> 115\u001b[0m         \u001b[39mreturn\u001b[39;00m func(\u001b[39m*\u001b[39;49margs, \u001b[39m*\u001b[39;49m\u001b[39m*\u001b[39;49mkwargs)\n",
      "File \u001b[0;32m~/Downloads/feat-instance-fusion-code-repo/core/integrate/scalable_tsdf_volume_for_feature_fusion.py:263\u001b[0m, in \u001b[0;36mFeatureFusionScalableTSDFVolume.extract_feat_on_grid\u001b[0;34m(self, verts, device)\u001b[0m\n\u001b[1;32m    260\u001b[0m         feat_sqare_merge \u001b[39m=\u001b[39m \u001b[39mself\u001b[39m\u001b[39m.\u001b[39m_feat_square\u001b[39m.\u001b[39mto(device)\n\u001b[1;32m    261\u001b[0m         feat_w2_sum_merge \u001b[39m=\u001b[39m \u001b[39mself\u001b[39m\u001b[39m.\u001b[39m_feat_w2_sum\u001b[39m.\u001b[39mto(device)\n\u001b[0;32m--> 263\u001b[0m feats \u001b[39m=\u001b[39m feat_merge[idx_selected]\u001b[39m.\u001b[39mcpu()\u001b[39m.\u001b[39mnumpy()\n\u001b[1;32m    264\u001b[0m feats_w_sum \u001b[39m=\u001b[39m feat_w_sum_merge[idx_selected]\u001b[39m.\u001b[39mcpu()\u001b[39m.\u001b[39mnumpy()\n\u001b[1;32m    265\u001b[0m \u001b[39mif\u001b[39;00m \u001b[39mself\u001b[39m\u001b[39m.\u001b[39m_include_var:\n",
      "\u001b[0;31mIndexError\u001b[0m: index is out of bounds for dimension with size 0"
     ]
    }
   ],
   "source": [
    "tsdf_volume.extract_feat_on_grid(verts=verts)[0]"
   ]
  },
  {
   "cell_type": "code",
   "execution_count": 6,
   "metadata": {},
   "outputs": [
    {
     "data": {
      "text/plain": [
       "TriangleMesh with 1120153 points and 2091538 triangles."
      ]
     },
     "execution_count": 6,
     "metadata": {},
     "output_type": "execute_result"
    }
   ],
   "source": [
    "\n",
    "\n",
    "mesh = o3d.geometry.TriangleMesh(\n",
    "    vertices=o3d.utility.Vector3dVector(verts),\n",
    "    triangles=o3d.utility.Vector3iVector(faces),\n",
    ")\n",
    "mesh.compute_vertex_normals()\n",
    "# mesh.vertex_colors = o3d.utility.Vector3dVector(color)"
   ]
  },
  {
   "cell_type": "code",
   "execution_count": null,
   "metadata": {},
   "outputs": [],
   "source": [
    "o3d.visualization.draw_geometries([mesh])"
   ]
  },
  {
   "cell_type": "code",
   "execution_count": null,
   "metadata": {},
   "outputs": [],
   "source": [
    "{\n",
    "\t\"class_name\" : \"ViewTrajectory\",\n",
    "\t\"interval\" : 29,\n",
    "\t\"is_loop\" : false,\n",
    "\t\"trajectory\" : \n",
    "\t[\n",
    "\t\t{\n",
    "\t\t\t\"boundingbox_max\" : [ 10.469086303710938, 8.7599999999999998, 2.9571990966796875 ],\n",
    "\t\t\t\"boundingbox_min\" : [ -0.64500000000000002, -0.044999999999999998, -0.089999999999999997 ],\n",
    "\t\t\t\"field_of_view\" : 60.0,\n",
    "\t\t\t\"front\" : [ 0.0, 0.0, 1.0 ],\n",
    "\t\t\t\"lookat\" : [ 4.9120431518554692, 4.3574999999999999, 1.4335995483398438 ],\n",
    "\t\t\t\"up\" : [ -0.33137933329019542, 0.94349760861813781, 0.0 ],\n",
    "\t\t\t\"zoom\" : 0.69999999999999996\n",
    "\t\t}\n",
    "\t],\n",
    "\t\"version_major\" : 1,\n",
    "\t\"version_minor\" : 0\n",
    "}"
   ]
  }
 ],
 "metadata": {
  "kernelspec": {
   "display_name": "feat-seg-fusion",
   "language": "python",
   "name": "python3"
  },
  "language_info": {
   "codemirror_mode": {
    "name": "ipython",
    "version": 3
   },
   "file_extension": ".py",
   "mimetype": "text/x-python",
   "name": "python",
   "nbconvert_exporter": "python",
   "pygments_lexer": "ipython3",
   "version": "3.10.4"
  },
  "orig_nbformat": 4
 },
 "nbformat": 4,
 "nbformat_minor": 2
}
