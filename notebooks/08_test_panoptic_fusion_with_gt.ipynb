{
 "cells": [
  {
   "cell_type": "code",
   "execution_count": 1,
   "metadata": {},
   "outputs": [],
   "source": [
    "import os\n",
    "import sys\n",
    "\n",
    "os.environ[\"CUDA_DEVICE_ORDER\"] = \"PCI_BUS_ID\"\n",
    "\n",
    "module_path = os.path.abspath(os.path.join(\"..\"))\n",
    "if module_path not in sys.path:\n",
    "    sys.path.append(module_path)"
   ]
  },
  {
   "cell_type": "code",
   "execution_count": 2,
   "metadata": {},
   "outputs": [
    {
     "name": "stdout",
     "output_type": "stream",
     "text": [
      "Jupyter environment detected. Enabling Open3D WebVisualizer.\n",
      "[Open3D INFO] WebRTC GUI backend enabled.\n",
      "[Open3D INFO] WebRTCWindowSystem: HTTP handshake server disabled.\n"
     ]
    }
   ],
   "source": [
    "import numpy as np\n",
    "import open3d as o3d\n",
    "import torch\n",
    "from skimage import measure\n",
    "from tqdm import tqdm, trange\n",
    "\n",
    "from core.dataset import ScanNet\n",
    "from core.integrate import PanopticFusionScalableTSDFVolume\n",
    "from core.integrate.utils.misc import instance_id_to_one_hot_mask"
   ]
  },
  {
   "cell_type": "code",
   "execution_count": 3,
   "metadata": {},
   "outputs": [],
   "source": [
    "tsdf_device = \"cuda:1\"\n",
    "tsdf_volume = PanopticFusionScalableTSDFVolume(\n",
    "    voxel_size=0.015,\n",
    "    sdf_trunc=0.075,\n",
    "    margin=0.08,\n",
    "    device=tsdf_device,\n",
    ")\n",
    "\n",
    "save_dir = \"/home/quanta/Experiments/feature-instance-fusion/scannet_scene0000_00/\"\n",
    "tsdf_volume.load(save_dir + \"tsdf/tsdf_vol.pt\")"
   ]
  },
  {
   "cell_type": "code",
   "execution_count": 4,
   "metadata": {},
   "outputs": [
    {
     "ename": "",
     "evalue": "",
     "output_type": "error",
     "traceback": [
      "\u001b[1;31m在当前单元格或上一个单元格中执行代码时 Kernel 崩溃。请查看单元格中的代码，以确定故障的可能原因。有关详细信息，请单击 <a href='https://aka.ms/vscodeJupyterKernelCrash'>此处</a>。有关更多详细信息，请查看 Jupyter <a href='command:jupyter.viewOutput'>log</a>。"
     ]
    }
   ],
   "source": [
    "dataset = ScanNet(\"/home/quanta/Datasets/ScanNet/\")\n",
    "scan_id = \"scene0000_00\"\n",
    "id = dataset.scan_id_list.index(scan_id)\n",
    "inst = dataset[id]\n",
    "single_instance = inst[\"scan_dataset\"]\n",
    "H, W = inst[\"color_height\"], inst[\"color_width\"]"
   ]
  },
  {
   "cell_type": "code",
   "execution_count": 5,
   "metadata": {},
   "outputs": [],
   "source": [
    "tsdf_volume.reset_instance()"
   ]
  },
  {
   "cell_type": "code",
   "execution_count": 18,
   "metadata": {},
   "outputs": [
    {
     "data": {
      "text/plain": [
       "torch.Size([968, 1296, 41])"
      ]
     },
     "execution_count": 18,
     "metadata": {},
     "output_type": "execute_result"
    }
   ],
   "source": [
    "inputs = single_instance.get_torch_tensor(\n",
    "    0,\n",
    "    device=tsdf_device,\n",
    "    keys={\n",
    "        \"label\"\n",
    "    },\n",
    ")\n",
    "torch.nn.functional.one_hot(inputs['label'].long(), num_classes=41).shape\n",
    "# inputs['label'].shape"
   ]
  },
  {
   "cell_type": "code",
   "execution_count": 35,
   "metadata": {},
   "outputs": [
    {
     "name": "stderr",
     "output_type": "stream",
     "text": [
      "100%|██████████| 5578/5578 [04:52<00:00, 19.07it/s]\n"
     ]
    }
   ],
   "source": [
    "indent = 1\n",
    "for idx in trange(0, len(single_instance), indent):\n",
    "    # for idx in trange(100):\n",
    "    inputs = single_instance.get_torch_tensor(\n",
    "        idx,\n",
    "        device=tsdf_device,\n",
    "        keys={\n",
    "            \"depth\",\n",
    "            \"depth_intr\",\n",
    "            \"pose\",\n",
    "            \"instance\",\n",
    "            \"color_intr\",\n",
    "        },\n",
    "    )\n",
    "    masks = instance_id_to_one_hot_mask(instance=inputs[\"instance\"], background_id=0)\n",
    "\n",
    "    result = tsdf_volume.integrate_instance_with_existing_voxel(\n",
    "        masks=masks,\n",
    "        masks_intr=inputs[\"color_intr\"],\n",
    "        cam_pose=inputs[\"pose\"],\n",
    "        threshold=0.25,  # 0.25 for gt, 0.15 for grounding sam\n",
    "        depth_type=\"voxel_rc\",\n",
    "        # depth_type=\"mesh_rc\",\n",
    "        # depth_type=\"sensor\",\n",
    "        # depth_type=\"voxel_rc_torch\",\n",
    "        # depth=inputs['depth'],\n",
    "        # depth_intr=inputs['depth_intr'],\n",
    "    )\n",
    "    # print(result)"
   ]
  },
  {
   "cell_type": "code",
   "execution_count": 7,
   "metadata": {},
   "outputs": [],
   "source": [
    "# mesh_rc 20.46 it/s\n",
    "# sensor 47.59 it/s\n",
    "# voxel_rc 21.12 it/s\n",
    "# voxel_rc_torch 1.58 it/s"
   ]
  },
  {
   "cell_type": "code",
   "execution_count": 8,
   "metadata": {},
   "outputs": [],
   "source": [
    "import open3d as o3d\n",
    "\n",
    "draw = o3d.visualization.EV.draw"
   ]
  },
  {
   "cell_type": "code",
   "execution_count": 36,
   "metadata": {},
   "outputs": [],
   "source": [
    "verts, faces = tsdf_volume.extract_mesh()\n",
    "mesh = o3d.geometry.TriangleMesh(\n",
    "    vertices=o3d.utility.Vector3dVector(verts),\n",
    "    triangles=o3d.utility.Vector3iVector(faces),\n",
    ")\n",
    "labels, labels_w_sum = tsdf_volume.extract_label_on_grid(verts)"
   ]
  },
  {
   "cell_type": "code",
   "execution_count": 22,
   "metadata": {},
   "outputs": [],
   "source": [
    "color_set = np.random.random(size=(tsdf_volume._instance_label_num, 3))"
   ]
  },
  {
   "cell_type": "code",
   "execution_count": 37,
   "metadata": {},
   "outputs": [
    {
     "data": {
      "text/plain": [
       "TriangleMesh with 1120162 points and 2091565 triangles."
      ]
     },
     "execution_count": 37,
     "metadata": {},
     "output_type": "execute_result"
    }
   ],
   "source": [
    "color = color_set[labels]\n",
    "mesh.vertex_colors = o3d.utility.Vector3dVector(color)\n",
    "mesh.compute_vertex_normals()"
   ]
  },
  {
   "cell_type": "code",
   "execution_count": null,
   "metadata": {},
   "outputs": [],
   "source": [
    "draw([mesh])"
   ]
  },
  {
   "cell_type": "code",
   "execution_count": null,
   "metadata": {},
   "outputs": [],
   "source": []
  }
 ],
 "metadata": {
  "kernelspec": {
   "display_name": "feat-seg-fusion",
   "language": "python",
   "name": "python3"
  },
  "language_info": {
   "codemirror_mode": {
    "name": "ipython",
    "version": 3
   },
   "file_extension": ".py",
   "mimetype": "text/x-python",
   "name": "python",
   "nbconvert_exporter": "python",
   "pygments_lexer": "ipython3",
   "version": "3.10.4"
  },
  "orig_nbformat": 4
 },
 "nbformat": 4,
 "nbformat_minor": 2
}
