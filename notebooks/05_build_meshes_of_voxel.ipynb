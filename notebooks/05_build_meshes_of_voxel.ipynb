{
 "cells": [
  {
   "cell_type": "code",
   "execution_count": 1,
   "metadata": {},
   "outputs": [],
   "source": [
    "import os\n",
    "import sys\n",
    "\n",
    "os.environ[\"CUDA_DEVICE_ORDER\"] = \"PCI_BUS_ID\"\n",
    "\n",
    "module_path = os.path.abspath(os.path.join(\"..\"))\n",
    "if module_path not in sys.path:\n",
    "    sys.path.append(module_path)"
   ]
  },
  {
   "cell_type": "code",
   "execution_count": 2,
   "metadata": {},
   "outputs": [],
   "source": [
    "import torch"
   ]
  },
  {
   "cell_type": "markdown",
   "metadata": {},
   "source": [
    "this procedure is really like minecraft"
   ]
  },
  {
   "cell_type": "code",
   "execution_count": 3,
   "metadata": {},
   "outputs": [],
   "source": [
    "# 6 direction of cube\n",
    "directions = torch.tensor(\n",
    "    [\n",
    "        [+1, 0, 0],\n",
    "        [-1, 0, 0],\n",
    "        [0, +1, 0],\n",
    "        [0, -1, 0],\n",
    "        [0, 0, +1],\n",
    "        [0, 0, -1],\n",
    "    ]\n",
    ")"
   ]
  },
  {
   "cell_type": "code",
   "execution_count": 31,
   "metadata": {},
   "outputs": [
    {
     "data": {
      "text/plain": [
       "[[1, 0, 0], [-1, 0, 0], [0, 1, 0], [0, -1, 0], [0, 0, 1], [0, 0, -1]]"
      ]
     },
     "execution_count": 31,
     "metadata": {},
     "output_type": "execute_result"
    }
   ],
   "source": [
    "directions.tolist()"
   ]
  },
  {
   "cell_type": "code",
   "execution_count": 4,
   "metadata": {},
   "outputs": [],
   "source": [
    "i = torch.tensor(\n",
    "    [\n",
    "        [1, 0, 0],\n",
    "        [0, 1, 0],\n",
    "        [0, 0, 1],\n",
    "    ]\n",
    ")\n",
    "y90 = torch.tensor(\n",
    "    [\n",
    "        [0, 0, +1],\n",
    "        [0, +1, 0],\n",
    "        [-1, 0, 0],\n",
    "    ]\n",
    ")\n",
    "z90 = torch.tensor(\n",
    "    [\n",
    "        [0, -1, 0],\n",
    "        [1, 0, 0],\n",
    "        [0, 0, +1],\n",
    "    ]\n",
    ")"
   ]
  },
  {
   "cell_type": "code",
   "execution_count": 5,
   "metadata": {},
   "outputs": [
    {
     "data": {
      "text/plain": [
       "torch.Size([6, 3, 3])"
      ]
     },
     "execution_count": 5,
     "metadata": {},
     "output_type": "execute_result"
    }
   ],
   "source": [
    "rot = torch.stack(\n",
    "    [\n",
    "        i,\n",
    "        y90 @ y90,\n",
    "        z90,\n",
    "        z90 @ z90 @ z90,\n",
    "        y90 @ y90 @ y90,\n",
    "        y90,\n",
    "    ],\n",
    "    dim=0,\n",
    ")\n",
    "rot.shape"
   ]
  },
  {
   "cell_type": "code",
   "execution_count": 6,
   "metadata": {},
   "outputs": [
    {
     "data": {
      "text/plain": [
       "tensor([[ 1,  0,  0],\n",
       "        [-1,  0,  0],\n",
       "        [ 0,  1,  0],\n",
       "        [ 0, -1,  0],\n",
       "        [ 0,  0,  1],\n",
       "        [ 0,  0, -1]])"
      ]
     },
     "execution_count": 6,
     "metadata": {},
     "output_type": "execute_result"
    }
   ],
   "source": [
    "torch.einsum(\"ijk,kl->ijl\", rot, directions[0].reshape(-1, 1)).reshape(-1, 3)"
   ]
  },
  {
   "cell_type": "code",
   "execution_count": 7,
   "metadata": {},
   "outputs": [],
   "source": [
    "# the position of verts of a cube of size 2 in the origin, for the face of 1, 0, 0\n",
    "xverts = torch.tensor(\n",
    "    [\n",
    "        [1, 1, 1],\n",
    "        [1, -1, 1],\n",
    "        [1, -1, -1],\n",
    "        [1, 1, -1],\n",
    "    ]\n",
    ")\n",
    "\n",
    "xfaces = torch.tensor(\n",
    "    [\n",
    "        [0, 1, 3],\n",
    "        [1, 2, 3],\n",
    "    ]\n",
    ")"
   ]
  },
  {
   "cell_type": "code",
   "execution_count": 8,
   "metadata": {},
   "outputs": [
    {
     "data": {
      "text/plain": [
       "(torch.Size([6, 2, 3]), tensor(24))"
      ]
     },
     "execution_count": 8,
     "metadata": {},
     "output_type": "execute_result"
    }
   ],
   "source": [
    "faces = torch.arange(6).reshape(-1, 1, 1) * 4 + xfaces.reshape(1, 2, 3)  # direction, face, face_idx\n",
    "faces.shape, faces.max() + 1"
   ]
  },
  {
   "cell_type": "code",
   "execution_count": 9,
   "metadata": {},
   "outputs": [],
   "source": [
    "verts = torch.einsum('nij,vj->nvi', rot, xverts) # direction, number of verts, coord, 6x4x3"
   ]
  },
  {
   "cell_type": "code",
   "execution_count": 10,
   "metadata": {},
   "outputs": [],
   "source": [
    "from core.integrate.utils.voxel_ops import discrete2hash, hash2discrete"
   ]
  },
  {
   "cell_type": "code",
   "execution_count": 11,
   "metadata": {},
   "outputs": [
    {
     "data": {
      "text/plain": [
       "torch.Size([6, 4, 3])"
      ]
     },
     "execution_count": 11,
     "metadata": {},
     "output_type": "execute_result"
    }
   ],
   "source": [
    "verts.shape"
   ]
  },
  {
   "cell_type": "code",
   "execution_count": 39,
   "metadata": {},
   "outputs": [
    {
     "data": {
      "text/plain": [
       "[[0, 0, 0],\n",
       " [0, 0, 1],\n",
       " [0, 1, 0],\n",
       " [0, 1, 1],\n",
       " [1, 0, 0],\n",
       " [1, 0, 1],\n",
       " [1, 1, 0],\n",
       " [1, 1, 1]]"
      ]
     },
     "execution_count": 39,
     "metadata": {},
     "output_type": "execute_result"
    }
   ],
   "source": [
    "((new_verts + 1) // 2).tolist()"
   ]
  },
  {
   "cell_type": "code",
   "execution_count": 12,
   "metadata": {},
   "outputs": [],
   "source": [
    "unique_hash, inverse = discrete2hash(verts).unique(sorted=True, return_inverse=True)"
   ]
  },
  {
   "cell_type": "code",
   "execution_count": 13,
   "metadata": {},
   "outputs": [],
   "source": [
    "new_verts = hash2discrete(unique_hash)"
   ]
  },
  {
   "cell_type": "code",
   "execution_count": 14,
   "metadata": {},
   "outputs": [],
   "source": [
    "new_face = inverse.reshape(-1)[faces]"
   ]
  },
  {
   "cell_type": "code",
   "execution_count": 43,
   "metadata": {},
   "outputs": [
    {
     "data": {
      "text/plain": [
       "[[[7, 5, 6], [5, 4, 6]],\n",
       " [[2, 0, 3], [0, 1, 3]],\n",
       " [[3, 7, 2], [7, 6, 2]],\n",
       " [[5, 1, 4], [1, 0, 4]],\n",
       " [[3, 1, 7], [1, 5, 7]],\n",
       " [[6, 4, 2], [4, 0, 2]]]"
      ]
     },
     "execution_count": 43,
     "metadata": {},
     "output_type": "execute_result"
    }
   ],
   "source": [
    "new_face.tolist()"
   ]
  },
  {
   "cell_type": "code",
   "execution_count": 15,
   "metadata": {},
   "outputs": [
    {
     "name": "stdout",
     "output_type": "stream",
     "text": [
      "Jupyter environment detected. Enabling Open3D WebVisualizer.\n",
      "[Open3D INFO] WebRTC GUI backend enabled.\n",
      "[Open3D INFO] WebRTCWindowSystem: HTTP handshake server disabled.\n"
     ]
    }
   ],
   "source": [
    "import open3d as o3d\n",
    "\n",
    "draw = o3d.visualization.EV.draw"
   ]
  },
  {
   "cell_type": "code",
   "execution_count": 30,
   "metadata": {},
   "outputs": [],
   "source": [
    "selected = torch.tensor(\n",
    "    [\n",
    "        1,\n",
    "        0,\n",
    "        0,\n",
    "        0,\n",
    "        0,\n",
    "        0,\n",
    "    ],\n",
    "    dtype=bool,\n",
    ")\n",
    "selected = torch.ones_like(selected)\n",
    "selected_verts_idx, selected_faces = new_face[selected].unique(sorted=True, return_inverse=True)\n",
    "selected_verts = new_verts[selected_verts_idx]\n",
    "\n",
    "mesh = o3d.geometry.TriangleMesh(\n",
    "    vertices=o3d.utility.Vector3dVector(selected_verts.double().numpy()),\n",
    "    triangles=o3d.utility.Vector3iVector(selected_faces.reshape(-1, 3).numpy()),\n",
    ")\n",
    "mesh.compute_vertex_normals()\n",
    "draw([mesh])"
   ]
  },
  {
   "cell_type": "code",
   "execution_count": 27,
   "metadata": {},
   "outputs": [
    {
     "data": {
      "text/plain": [
       "tensor([[[3, 1, 2],\n",
       "         [1, 0, 2]]])"
      ]
     },
     "execution_count": 27,
     "metadata": {},
     "output_type": "execute_result"
    }
   ],
   "source": [
    "selected_faces"
   ]
  },
  {
   "cell_type": "code",
   "execution_count": 28,
   "metadata": {},
   "outputs": [
    {
     "data": {
      "text/plain": [
       "torch.Size([6, 2, 3])"
      ]
     },
     "execution_count": 28,
     "metadata": {},
     "output_type": "execute_result"
    }
   ],
   "source": [
    "new_face.shape"
   ]
  },
  {
   "cell_type": "code",
   "execution_count": null,
   "metadata": {},
   "outputs": [],
   "source": []
  }
 ],
 "metadata": {
  "kernelspec": {
   "display_name": "feat-seg-fusion",
   "language": "python",
   "name": "python3"
  },
  "language_info": {
   "codemirror_mode": {
    "name": "ipython",
    "version": 3
   },
   "file_extension": ".py",
   "mimetype": "text/x-python",
   "name": "python",
   "nbconvert_exporter": "python",
   "pygments_lexer": "ipython3",
   "version": "3.10.4"
  },
  "orig_nbformat": 4
 },
 "nbformat": 4,
 "nbformat_minor": 2
}
