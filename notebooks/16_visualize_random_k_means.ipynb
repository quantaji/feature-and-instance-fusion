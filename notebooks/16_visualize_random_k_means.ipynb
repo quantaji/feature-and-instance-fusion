{
 "cells": [
  {
   "cell_type": "code",
   "execution_count": 34,
   "metadata": {},
   "outputs": [],
   "source": [
    "# %%sh\n",
    "# $HOME/.conda/envs/feat-seg-fusion/bin/python fusion.py --pipeline kmeans --pipeline_device cuda:1 --start 0 --end -1 --stride 1 --save_dir /home/quanta/Experiments/feature-instance-fusion/scannet_scene0000_00 --kmeans_cluster_num 512 --kmeans_extractor random_sam"
   ]
  },
  {
   "cell_type": "code",
   "execution_count": 35,
   "metadata": {},
   "outputs": [],
   "source": [
    "import os\n",
    "import sys\n",
    "\n",
    "os.environ[\"CUDA_DEVICE_ORDER\"] = \"PCI_BUS_ID\"\n",
    "\n",
    "module_path = os.path.abspath(os.path.join(\"..\"))\n",
    "if module_path not in sys.path:\n",
    "    sys.path.append(module_path)"
   ]
  },
  {
   "cell_type": "code",
   "execution_count": 36,
   "metadata": {},
   "outputs": [],
   "source": [
    "import numpy as np\n",
    "import open3d as o3d\n",
    "import torch\n",
    "from skimage import measure\n",
    "from tqdm import tqdm, trange\n",
    "\n",
    "from core.dataset import ScanNet\n",
    "from core.integrate import PanopticFusionScalableTSDFVolume\n",
    "from core.integrate.utils.misc import instance_id_to_one_hot_mask"
   ]
  },
  {
   "cell_type": "code",
   "execution_count": 37,
   "metadata": {},
   "outputs": [],
   "source": [
    "tsdf_device = \"cuda:1\"\n",
    "tsdf_volume = PanopticFusionScalableTSDFVolume(\n",
    "    voxel_size=0.015,\n",
    "    sdf_trunc=0.075,\n",
    "    margin=0.08,\n",
    "    device=tsdf_device,\n",
    ")\n",
    "\n",
    "save_dir = \"/home/quanta/Experiments/feature-instance-fusion/scannet_scene0000_00/\"\n",
    "# save_dir = \"/home/quanta/Experiments/feature-instance-fusion/scannet_scene0645_01/\"\n",
    "# save_dir = \"/home/quanta/Experiments/feature-instance-fusion/scannet_scene0643_00/\"\n",
    "# save_dir = \"/home/quanta/Experiments/feature-instance-fusion/scannet_scene0488_01/\"\n",
    "tsdf_volume.load(save_dir + \"tsdf/tsdf_volume.pt\")"
   ]
  },
  {
   "cell_type": "code",
   "execution_count": 38,
   "metadata": {},
   "outputs": [],
   "source": [
    "verts, faces = tsdf_volume.extract_mesh()\n",
    "mesh = o3d.geometry.TriangleMesh(\n",
    "    vertices=o3d.utility.Vector3dVector(verts),\n",
    "    triangles=o3d.utility.Vector3iVector(faces),\n",
    ")"
   ]
  },
  {
   "cell_type": "code",
   "execution_count": 39,
   "metadata": {},
   "outputs": [],
   "source": [
    "# load labels\n",
    "voxel_labels = torch.load(save_dir + \"kmeans_random_grounded_sam/kmeans_labels.pt\").to(tsdf_device)\n",
    "tsdf_volume.reset_instance()\n",
    "tsdf_volume._instance_label_num = 1024\n",
    "tsdf_volume._instance = voxel_labels"
   ]
  },
  {
   "cell_type": "code",
   "execution_count": 40,
   "metadata": {},
   "outputs": [],
   "source": [
    "labels = tsdf_volume.extract_label_on_grid(verts=verts, device=tsdf_device)[0]"
   ]
  },
  {
   "cell_type": "code",
   "execution_count": 41,
   "metadata": {},
   "outputs": [],
   "source": [
    "color_set = np.random.random(size=(1024, 3))"
   ]
  },
  {
   "cell_type": "code",
   "execution_count": 42,
   "metadata": {},
   "outputs": [],
   "source": [
    "color = color_set[labels]\n",
    "# mesh.compute_vertex_normals()\n",
    "mesh.vertex_colors = o3d.utility.Vector3dVector(color)"
   ]
  },
  {
   "cell_type": "code",
   "execution_count": 43,
   "metadata": {},
   "outputs": [],
   "source": [
    "import open3d as o3d\n",
    "\n",
    "draw = o3d.visualization.EV.draw\n",
    "draw([mesh])"
   ]
  },
  {
   "cell_type": "code",
   "execution_count": 44,
   "metadata": {},
   "outputs": [
    {
     "data": {
      "text/plain": [
       "True"
      ]
     },
     "execution_count": 44,
     "metadata": {},
     "output_type": "execute_result"
    }
   ],
   "source": [
    "o3d._build_config[\"ENABLE_HEADLESS_RENDERING\"]"
   ]
  },
  {
   "cell_type": "code",
   "execution_count": null,
   "metadata": {},
   "outputs": [],
   "source": []
  }
 ],
 "metadata": {
  "kernelspec": {
   "display_name": "Python 3",
   "language": "python",
   "name": "python3"
  },
  "language_info": {
   "codemirror_mode": {
    "name": "ipython",
    "version": 3
   },
   "file_extension": ".py",
   "mimetype": "text/x-python",
   "name": "python",
   "nbconvert_exporter": "python",
   "pygments_lexer": "ipython3",
   "version": "3.10.4"
  },
  "orig_nbformat": 4
 },
 "nbformat": 4,
 "nbformat_minor": 2
}
