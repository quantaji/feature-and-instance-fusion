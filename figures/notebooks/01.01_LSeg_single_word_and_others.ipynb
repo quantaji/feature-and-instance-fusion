{
 "cells": [
  {
   "cell_type": "code",
   "execution_count": 1,
   "metadata": {},
   "outputs": [],
   "source": [
    "import os\n",
    "import sys\n",
    "\n",
    "os.environ[\"CUDA_DEVICE_ORDER\"] = \"PCI_BUS_ID\"\n",
    "\n",
    "module_path = os.path.abspath(os.path.join(\"../..\"))\n",
    "if module_path not in sys.path:\n",
    "    sys.path.append(module_path)"
   ]
  },
  {
   "cell_type": "code",
   "execution_count": 2,
   "metadata": {},
   "outputs": [],
   "source": [
    "import json\n",
    "\n",
    "import matplotlib.pyplot as plt\n",
    "import numpy as np\n",
    "import open3d as o3d\n",
    "import torch\n",
    "from PIL import Image\n",
    "\n",
    "from core.integrate import FeatureFusionScalableTSDFVolume\n",
    "from core.labeler import CLIPTextQuerier, KMeansLabeler"
   ]
  },
  {
   "cell_type": "code",
   "execution_count": 3,
   "metadata": {},
   "outputs": [
    {
     "data": {
      "text/plain": [
       "True"
      ]
     },
     "execution_count": 3,
     "metadata": {},
     "output_type": "execute_result"
    }
   ],
   "source": [
    "o3d._build_config[\"ENABLE_HEADLESS_RENDERING\"]"
   ]
  },
  {
   "cell_type": "code",
   "execution_count": 4,
   "metadata": {},
   "outputs": [],
   "source": [
    "scene = \"scannet_scene0000_00\"\n",
    "save_dir = \"/storage/quanta/Experiments/feature-instance-fusion/\" + scene + \"/\""
   ]
  },
  {
   "cell_type": "code",
   "execution_count": 5,
   "metadata": {},
   "outputs": [],
   "source": [
    "json_pth = os.path.abspath(\"../../config/views/\" + scene + \".json\")\n",
    "with open(json_pth, \"r\") as f:\n",
    "    views = json.load(f)['views']"
   ]
  },
  {
   "cell_type": "markdown",
   "metadata": {},
   "source": [
    "# Single Word and Other Query"
   ]
  },
  {
   "cell_type": "code",
   "execution_count": 6,
   "metadata": {},
   "outputs": [],
   "source": [
    "tsdf_device = \"cuda:1\"\n",
    "tsdf_volume = FeatureFusionScalableTSDFVolume(\n",
    "    voxel_size=0.015,\n",
    "    sdf_trunc=0.075,\n",
    "    margin=0.08,\n",
    "    device=\"cuda:1\",\n",
    ")\n",
    "tsdf_volume.load(save_dir + \"tsdf/tsdf_volume_unpruned.pt\")\n",
    "verts = np.load(save_dir + \"tsdf/verts.npy\")\n",
    "faces = np.load(save_dir + \"tsdf/faces.npy\")\n",
    "tsdf_volume.load_feats(save_dir + \"tsdf_feature_lseg/feats.pt\")"
   ]
  },
  {
   "cell_type": "code",
   "execution_count": 7,
   "metadata": {},
   "outputs": [],
   "source": [
    "verts_feats = tsdf_volume.extract_feat_on_grid(verts=verts, device='cpu')[0]"
   ]
  },
  {
   "cell_type": "code",
   "execution_count": 8,
   "metadata": {},
   "outputs": [],
   "source": [
    "clip_querier = CLIPTextQuerier(device='cuda:1')\n",
    "clip_querier.load_model()"
   ]
  },
  {
   "cell_type": "code",
   "execution_count": 9,
   "metadata": {},
   "outputs": [],
   "source": [
    "noun = [\"floor\", \"refridgerator\", \"sink\", \"sofa\", \"wall\", \"window\", \"bad\", \"cabinet\", \"counter\", \"curtain\", \"desk\", \"door\", \"chair\"]"
   ]
  },
  {
   "cell_type": "code",
   "execution_count": 10,
   "metadata": {},
   "outputs": [
    {
     "data": {
      "text/plain": [
       "TriangleMesh with 1120153 points and 2091538 triangles."
      ]
     },
     "execution_count": 10,
     "metadata": {},
     "output_type": "execute_result"
    }
   ],
   "source": [
    "mesh = o3d.geometry.TriangleMesh(\n",
    "    vertices=o3d.utility.Vector3dVector(verts),\n",
    "    triangles=o3d.utility.Vector3iVector(faces),\n",
    ")\n",
    "mesh.compute_vertex_normals()"
   ]
  },
  {
   "cell_type": "code",
   "execution_count": 11,
   "metadata": {},
   "outputs": [],
   "source": [
    "save_dir = \"../01_LSeg/01_single_word_and_other/01_noun/\"\n",
    "os.makedirs(save_dir, exist_ok=True)"
   ]
  },
  {
   "cell_type": "code",
   "execution_count": 12,
   "metadata": {},
   "outputs": [],
   "source": [
    "for i, text in enumerate(noun):\n",
    "    score = clip_querier.single_text_others_score(\n",
    "        text=text,\n",
    "        other_text=\"other\",\n",
    "        img_feats=torch.from_numpy(verts_feats),\n",
    "        temperature=0.03,\n",
    "    )\n",
    "    color = clip_querier.score_to_color(score=score, scheme=\"by\")\n",
    "    mesh.vertex_colors = o3d.utility.Vector3dVector(color)\n",
    "\n",
    "    vis = o3d.visualization.Visualizer()\n",
    "    vis.create_window()\n",
    "    vis.add_geometry(mesh)\n",
    "    vis.set_view_status(json.dumps(views[0][\"view\"]))\n",
    "    buffer = vis.capture_screen_float_buffer(do_render=True)\n",
    "    image = Image.fromarray((np.asarray(buffer) * 255).astype(np.uint8))\n",
    "    # display(image)\n",
    "    image.save(save_dir + \"{:02d}_\".format(i) + text + \".png\")"
   ]
  },
  {
   "cell_type": "markdown",
   "metadata": {},
   "source": [
    "## Scope"
   ]
  },
  {
   "cell_type": "code",
   "execution_count": 13,
   "metadata": {},
   "outputs": [],
   "source": [
    "scope = [\"living room\", \"bathroom\", \"legs of chair\"]"
   ]
  },
  {
   "cell_type": "code",
   "execution_count": 14,
   "metadata": {},
   "outputs": [],
   "source": [
    "save_dir = \"../01_LSeg/01_single_word_and_other/02_scope/\"\n",
    "os.makedirs(save_dir, exist_ok=True)"
   ]
  },
  {
   "cell_type": "code",
   "execution_count": 15,
   "metadata": {},
   "outputs": [],
   "source": [
    "for i, text in enumerate(scope):\n",
    "    score = clip_querier.single_text_others_score(\n",
    "        text=text,\n",
    "        other_text=\"other\",\n",
    "        img_feats=torch.from_numpy(verts_feats),\n",
    "        temperature=0.03,\n",
    "    )\n",
    "    color = clip_querier.score_to_color(score=score, scheme=\"by\")\n",
    "    mesh.vertex_colors = o3d.utility.Vector3dVector(color)\n",
    "\n",
    "    vis = o3d.visualization.Visualizer()\n",
    "    vis.create_window()\n",
    "    vis.add_geometry(mesh)\n",
    "    vis.set_view_status(json.dumps(views[0][\"view\"]))\n",
    "    buffer = vis.capture_screen_float_buffer(do_render=True)\n",
    "    image = Image.fromarray((np.asarray(buffer) * 255).astype(np.uint8))\n",
    "    # display(image)\n",
    "    image.save(save_dir + \"{:02d}_\".format(i) + text + \".png\")"
   ]
  },
  {
   "cell_type": "markdown",
   "metadata": {},
   "source": [
    "## Relative Position"
   ]
  },
  {
   "cell_type": "code",
   "execution_count": 16,
   "metadata": {},
   "outputs": [],
   "source": [
    "relative_position = [\"front panel of fridge\", \"middle of the bed\", \"edge of sofa\", \"backpack on the bed\", \"left of chairs\", \"middle between bed and sofa\"]"
   ]
  },
  {
   "cell_type": "code",
   "execution_count": 17,
   "metadata": {},
   "outputs": [],
   "source": [
    "save_dir = \"../01_LSeg/01_single_word_and_other/03_relative_position/\"\n",
    "os.makedirs(save_dir, exist_ok=True)"
   ]
  },
  {
   "cell_type": "code",
   "execution_count": 18,
   "metadata": {},
   "outputs": [],
   "source": [
    "for i, text in enumerate(relative_position):\n",
    "    score = clip_querier.single_text_others_score(\n",
    "        text=text,\n",
    "        other_text=\"other\",\n",
    "        img_feats=torch.from_numpy(verts_feats),\n",
    "        temperature=0.03,\n",
    "    )\n",
    "    color = clip_querier.score_to_color(score=score, scheme=\"by\")\n",
    "    mesh.vertex_colors = o3d.utility.Vector3dVector(color)\n",
    "\n",
    "    vis = o3d.visualization.Visualizer()\n",
    "    vis.create_window()\n",
    "    vis.add_geometry(mesh)\n",
    "    vis.set_view_status(json.dumps(views[0][\"view\"]))\n",
    "    buffer = vis.capture_screen_float_buffer(do_render=True)\n",
    "    image = Image.fromarray((np.asarray(buffer) * 255).astype(np.uint8))\n",
    "    # display(image)\n",
    "    image.save(save_dir + \"{:02d}_\".format(i) + text + \".png\")"
   ]
  },
  {
   "cell_type": "markdown",
   "metadata": {},
   "source": [
    "# Verb"
   ]
  },
  {
   "cell_type": "code",
   "execution_count": 19,
   "metadata": {},
   "outputs": [],
   "source": [
    "verb = [\"sit\", \"sleep\", \"brush teeth\", \"ride\", \"read\", \"travel\"]"
   ]
  },
  {
   "cell_type": "code",
   "execution_count": 20,
   "metadata": {},
   "outputs": [],
   "source": [
    "save_dir = \"../01_LSeg/01_single_word_and_other/04_verb/\"\n",
    "os.makedirs(save_dir, exist_ok=True)"
   ]
  },
  {
   "cell_type": "code",
   "execution_count": 21,
   "metadata": {},
   "outputs": [],
   "source": [
    "for i, text in enumerate(verb):\n",
    "    score = clip_querier.single_text_others_score(\n",
    "        text=text,\n",
    "        other_text=\"other\",\n",
    "        img_feats=torch.from_numpy(verts_feats),\n",
    "        temperature=0.03,\n",
    "    )\n",
    "    color = clip_querier.score_to_color(score=score, scheme=\"by\")\n",
    "    mesh.vertex_colors = o3d.utility.Vector3dVector(color)\n",
    "\n",
    "    vis = o3d.visualization.Visualizer()\n",
    "    vis.create_window()\n",
    "    vis.add_geometry(mesh)\n",
    "    vis.set_view_status(json.dumps(views[0][\"view\"]))\n",
    "    buffer = vis.capture_screen_float_buffer(do_render=True)\n",
    "    image = Image.fromarray((np.asarray(buffer) * 255).astype(np.uint8))\n",
    "    # display(image)\n",
    "    image.save(save_dir + \"{:02d}_\".format(i) + text + \".png\")"
   ]
  },
  {
   "cell_type": "markdown",
   "metadata": {},
   "source": [
    "## adjective"
   ]
  },
  {
   "cell_type": "code",
   "execution_count": 22,
   "metadata": {},
   "outputs": [],
   "source": [
    "adjective = [\"warm\", \"cold\", \"soft\", \"metal\", \"can be burned\", \"can be closed\", \"can be closed or opened\", \"can be used\"]"
   ]
  },
  {
   "cell_type": "code",
   "execution_count": 23,
   "metadata": {},
   "outputs": [],
   "source": [
    "save_dir = \"../01_LSeg/01_single_word_and_other/05_adjective/\"\n",
    "os.makedirs(save_dir, exist_ok=True)"
   ]
  },
  {
   "cell_type": "code",
   "execution_count": 24,
   "metadata": {},
   "outputs": [],
   "source": [
    "for i, text in enumerate(adjective):\n",
    "    score = clip_querier.single_text_others_score(\n",
    "        text=text,\n",
    "        other_text=\"other\",\n",
    "        img_feats=torch.from_numpy(verts_feats),\n",
    "        temperature=0.03,\n",
    "    )\n",
    "    color = clip_querier.score_to_color(score=score, scheme=\"by\")\n",
    "    mesh.vertex_colors = o3d.utility.Vector3dVector(color)\n",
    "\n",
    "    vis = o3d.visualization.Visualizer()\n",
    "    vis.create_window()\n",
    "    vis.add_geometry(mesh)\n",
    "    vis.set_view_status(json.dumps(views[0][\"view\"]))\n",
    "    buffer = vis.capture_screen_float_buffer(do_render=True)\n",
    "    image = Image.fromarray((np.asarray(buffer) * 255).astype(np.uint8))\n",
    "    # display(image)\n",
    "    image.save(save_dir + \"{:02d}_\".format(i) + text + \".png\")"
   ]
  },
  {
   "cell_type": "markdown",
   "metadata": {},
   "source": [
    "## Indirect word, inference"
   ]
  },
  {
   "cell_type": "code",
   "execution_count": 25,
   "metadata": {},
   "outputs": [],
   "source": [
    "indirect = [\"food\", \"cold food inside\", \"place for cooking\", \"place for sleeping\", \"sleeping\"]"
   ]
  },
  {
   "cell_type": "code",
   "execution_count": 26,
   "metadata": {},
   "outputs": [],
   "source": [
    "save_dir = \"../01_LSeg/01_single_word_and_other/06_indirect/\"\n",
    "os.makedirs(save_dir, exist_ok=True)"
   ]
  },
  {
   "cell_type": "code",
   "execution_count": 27,
   "metadata": {},
   "outputs": [],
   "source": [
    "for i, text in enumerate(indirect):\n",
    "    score = clip_querier.single_text_others_score(\n",
    "        text=text,\n",
    "        other_text=\"other\",\n",
    "        img_feats=torch.from_numpy(verts_feats),\n",
    "        temperature=0.03,\n",
    "    )\n",
    "    color = clip_querier.score_to_color(score=score, scheme=\"by\")\n",
    "    mesh.vertex_colors = o3d.utility.Vector3dVector(color)\n",
    "\n",
    "    vis = o3d.visualization.Visualizer()\n",
    "    vis.create_window()\n",
    "    vis.add_geometry(mesh)\n",
    "    vis.set_view_status(json.dumps(views[0][\"view\"]))\n",
    "    buffer = vis.capture_screen_float_buffer(do_render=True)\n",
    "    image = Image.fromarray((np.asarray(buffer) * 255).astype(np.uint8))\n",
    "    # display(image)\n",
    "    image.save(save_dir + \"{:02d}_\".format(i) + text + \".png\")"
   ]
  },
  {
   "cell_type": "markdown",
   "metadata": {},
   "source": [
    "## Logical combination"
   ]
  },
  {
   "cell_type": "code",
   "execution_count": 28,
   "metadata": {},
   "outputs": [],
   "source": [
    "logical_combination = [\"bed and sofa\", \"toilet and curtain\", \"not on the floor\", \"toilet but not sink\"]"
   ]
  },
  {
   "cell_type": "code",
   "execution_count": 29,
   "metadata": {},
   "outputs": [],
   "source": [
    "save_dir = \"../01_LSeg/01_single_word_and_other/07_logical_combination/\"\n",
    "os.makedirs(save_dir, exist_ok=True)"
   ]
  },
  {
   "cell_type": "code",
   "execution_count": 30,
   "metadata": {},
   "outputs": [
    {
     "ename": "",
     "evalue": "",
     "output_type": "error",
     "traceback": [
      "\u001b[1;31m在当前单元格或上一个单元格中执行代码时 Kernel 崩溃。请查看单元格中的代码，以确定故障的可能原因。有关详细信息，请单击 <a href='https://aka.ms/vscodeJupyterKernelCrash'>此处</a>。有关更多详细信息，请查看 Jupyter <a href='command:jupyter.viewOutput'>log</a>。"
     ]
    }
   ],
   "source": [
    "for i, text in enumerate(logical_combination):\n",
    "    score = clip_querier.single_text_others_score(\n",
    "        text=text,\n",
    "        other_text=\"other\",\n",
    "        img_feats=torch.from_numpy(verts_feats),\n",
    "        temperature=0.03,\n",
    "    )\n",
    "    color = clip_querier.score_to_color(score=score, scheme=\"by\")\n",
    "    mesh.vertex_colors = o3d.utility.Vector3dVector(color)\n",
    "\n",
    "    vis = o3d.visualization.Visualizer()\n",
    "    vis.create_window()\n",
    "    vis.add_geometry(mesh)\n",
    "    vis.set_view_status(json.dumps(views[0][\"view\"]))\n",
    "    buffer = vis.capture_screen_float_buffer(do_render=True)\n",
    "    image = Image.fromarray((np.asarray(buffer) * 255).astype(np.uint8))\n",
    "    # display(image)\n",
    "    image.save(save_dir + \"{:02d}_\".format(i) + text + \".png\")"
   ]
  },
  {
   "cell_type": "code",
   "execution_count": null,
   "metadata": {},
   "outputs": [],
   "source": []
  }
 ],
 "metadata": {
  "kernelspec": {
   "display_name": "Python 3",
   "language": "python",
   "name": "python3"
  },
  "language_info": {
   "codemirror_mode": {
    "name": "ipython",
    "version": 3
   },
   "file_extension": ".py",
   "mimetype": "text/x-python",
   "name": "python",
   "nbconvert_exporter": "python",
   "pygments_lexer": "ipython3",
   "version": "3.10.4"
  },
  "orig_nbformat": 4
 },
 "nbformat": 4,
 "nbformat_minor": 2
}
