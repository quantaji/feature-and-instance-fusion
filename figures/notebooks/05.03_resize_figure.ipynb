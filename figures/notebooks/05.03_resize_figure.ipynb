{
 "cells": [
  {
   "cell_type": "code",
   "execution_count": 144,
   "metadata": {},
   "outputs": [],
   "source": [
    "import os\n",
    "\n",
    "from PIL import Image"
   ]
  },
  {
   "cell_type": "code",
   "execution_count": 145,
   "metadata": {},
   "outputs": [],
   "source": [
    "for path, subdirs, files in os.walk(\"../\"):\n",
    "    for name in files:\n",
    "        pth = os.path.join(path, name)\n",
    "\n",
    "        if pth[-3:] == \"png\":\n",
    "            if \"01_single_word_and_other\" in path or \"00_global view.png\" in pth:\n",
    "                img = Image.open(pth)\n",
    "                if img.size == (1920, 1080):\n",
    "                    img.crop([70, 30, 1170, 1050]).save(pth)\n",
    "\n",
    "            if \"02_view-from-window.png\" in pth:\n",
    "                img = Image.open(pth)\n",
    "                if img.size == (1920, 1080):\n",
    "                    img.crop([400, 120, 1600, 1080]).save(pth)\n",
    "\n",
    "            if \"01_top-down-view.png\" in pth:\n",
    "                img = Image.open(pth)\n",
    "                if img.size == (1920, 1080):\n",
    "                    img.crop([350, 70, 1600, 900]).save(pth)\n",
    "\n",
    "            if \"00_global-view-in-conceptfusion.png\" in pth:\n",
    "                img = Image.open(pth)\n",
    "                if img.size == (1920, 1080):\n",
    "                    img.crop([100, 100, 1750, 950]).save(pth)\n",
    "\n",
    "            if \"00_main.png\" in pth:\n",
    "                img = Image.open(pth)\n",
    "                if img.size == (1920, 1080):\n",
    "                    img.crop([90, 80, 1700, 1080]).save(pth)\n",
    "\n",
    "            if \"00_top-down.png\" in pth:\n",
    "                img = Image.open(pth)\n",
    "                if img.size == (1920, 1080):\n",
    "                    img.crop([400, 180, 1600, 950]).save(pth)\n",
    "\n",
    "            if \"01_side-one.png\" in pth:\n",
    "                img = Image.open(pth)\n",
    "                if img.size == (1920, 1080):\n",
    "                    img.crop([350, 180, 1600, 950]).save(pth)\n",
    "\n",
    "            if \"02_side-two.png\" in pth:\n",
    "                img = Image.open(pth)\n",
    "                if img.size == (1920, 1080):\n",
    "                    img.crop([200, 180, 1500, 1080]).save(pth)\n",
    "\n",
    "            if \"03_view-in-panoptic-fusion-paper.png\" in pth:\n",
    "                img = Image.open(pth)\n",
    "                if img.size == (1920, 1080):\n",
    "                    img.crop([350, 50, 1300, 1000]).save(pth)\n",
    "\n",
    "            if \"00_panoptic-fusion-paper.png\" in pth:\n",
    "                img = Image.open(pth)\n",
    "                if img.size == (1920, 1080):\n",
    "                    img.crop([300, 130, 1630, 1000]).save(pth)\n",
    "\n",
    "            if \"01_view-from-another-way.png\" in pth:\n",
    "                img = Image.open(pth)\n",
    "                if img.size == (1920, 1080):\n",
    "                    img.crop([200, 50, 1670, 1080]).save(pth)"
   ]
  },
  {
   "cell_type": "code",
   "execution_count": 152,
   "metadata": {},
   "outputs": [],
   "source": [
    "# then save all png as jpg to save space\n",
    "for path, subdirs, files in os.walk(\"../\"):\n",
    "    for name in files:\n",
    "        pth = os.path.join(path, name)\n",
    "\n",
    "        if pth[-3:] == \"png\":\n",
    "            img = Image.open(pth)\n",
    "            new_pth = pth[:-3] + \"jpg\"\n",
    "            img.save(new_pth, quality=65)\n",
    "\n",
    "            if os.path.exists(pth):\n",
    "                os.remove(pth)"
   ]
  },
  {
   "cell_type": "code",
   "execution_count": null,
   "metadata": {},
   "outputs": [],
   "source": []
  }
 ],
 "metadata": {
  "kernelspec": {
   "display_name": "feat-seg-fusion",
   "language": "python",
   "name": "python3"
  },
  "language_info": {
   "codemirror_mode": {
    "name": "ipython",
    "version": 3
   },
   "file_extension": ".py",
   "mimetype": "text/x-python",
   "name": "python",
   "nbconvert_exporter": "python",
   "pygments_lexer": "ipython3",
   "version": "3.10.4"
  },
  "orig_nbformat": 4
 },
 "nbformat": 4,
 "nbformat_minor": 2
}
