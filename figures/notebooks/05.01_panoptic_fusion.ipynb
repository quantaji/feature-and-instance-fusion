{
 "cells": [
  {
   "cell_type": "markdown",
   "metadata": {},
   "source": [
    "save color gt_instance grounded_sam maskrcnn"
   ]
  },
  {
   "cell_type": "code",
   "execution_count": 2,
   "metadata": {},
   "outputs": [],
   "source": [
    "import os\n",
    "import sys\n",
    "\n",
    "os.environ[\"CUDA_DEVICE_ORDER\"] = \"PCI_BUS_ID\"\n",
    "\n",
    "module_path = os.path.abspath(os.path.join(\"../..\"))\n",
    "if module_path not in sys.path:\n",
    "    sys.path.append(module_path)"
   ]
  },
  {
   "cell_type": "code",
   "execution_count": 3,
   "metadata": {},
   "outputs": [],
   "source": [
    "import json\n",
    "\n",
    "import matplotlib.pyplot as plt\n",
    "import numpy as np\n",
    "import open3d as o3d\n",
    "import torch\n",
    "from PIL import Image\n",
    "\n",
    "from core.integrate import FeatureFusionScalableTSDFVolume, PanopticFusionScalableTSDFVolume\n",
    "from core.dataset import ScanNet\n",
    "from core.labeler import CLIPTextQuerier, KMeansLabeler"
   ]
  },
  {
   "cell_type": "code",
   "execution_count": 4,
   "metadata": {},
   "outputs": [
    {
     "data": {
      "text/plain": [
       "True"
      ]
     },
     "execution_count": 4,
     "metadata": {},
     "output_type": "execute_result"
    }
   ],
   "source": [
    "o3d._build_config[\"ENABLE_HEADLESS_RENDERING\"]"
   ]
  },
  {
   "cell_type": "markdown",
   "metadata": {},
   "source": [
    "### Save color"
   ]
  },
  {
   "cell_type": "code",
   "execution_count": 5,
   "metadata": {},
   "outputs": [],
   "source": [
    "device = \"cuda:1\"\n",
    "scenes = [\"scene0000_00\", \"scene0645_01\", \"scene0643_00\", \"scene0488_01\"]"
   ]
  },
  {
   "cell_type": "code",
   "execution_count": 6,
   "metadata": {},
   "outputs": [],
   "source": [
    "save_dir = \"../05_panoptic_fusion/\"\n",
    "sub_save_dir = save_dir + \"01_color/\""
   ]
  },
  {
   "cell_type": "code",
   "execution_count": 10,
   "metadata": {},
   "outputs": [],
   "source": [
    "sample_data = o3d.data.DemoCustomVisualization()"
   ]
  },
  {
   "cell_type": "code",
   "execution_count": 11,
   "metadata": {},
   "outputs": [],
   "source": [
    "for scene in scenes:\n",
    "    json_pth = os.path.abspath(\"../../config/views/scannet_\" + scene + \".json\")\n",
    "    with open(json_pth, \"r\") as f:\n",
    "        views = json.load(f)[\"views\"]\n",
    "\n",
    "    load_dir = \"/home/quanta/Experiments/feature-instance-fusion/scannet_\" + scene + \"/\"\n",
    "\n",
    "    tsdf_volume = FeatureFusionScalableTSDFVolume(\n",
    "        voxel_size=0.015,\n",
    "        sdf_trunc=0.075,\n",
    "        margin=0.08,\n",
    "        device=device,\n",
    "    )\n",
    "    tsdf_volume.load(load_dir + \"tsdf/tsdf_volume.pt\")\n",
    "    tsdf_volume.reset_feature(dim=3, include_var=False, dtype=torch.float32)\n",
    "    tsdf_volume.load_feats(load_dir + \"tsdf_feature_color/feats.pt\")\n",
    "    verts = np.load(load_dir + \"tsdf/verts.npy\")\n",
    "    faces = np.load(load_dir + \"tsdf/faces.npy\")\n",
    "    mesh = o3d.geometry.TriangleMesh(\n",
    "        vertices=o3d.utility.Vector3dVector(verts),\n",
    "        triangles=o3d.utility.Vector3iVector(faces),\n",
    "    )\n",
    "\n",
    "    color = tsdf_volume.extract_feat_on_grid(verts=verts)[0]\n",
    "\n",
    "    mesh.vertex_colors = o3d.utility.Vector3dVector(color)\n",
    "\n",
    "    for i, view in enumerate(views):\n",
    "        tmp_save_dir = sub_save_dir + scene + \"/\"\n",
    "        os.makedirs(tmp_save_dir, exist_ok=True)\n",
    "        tmp_save_name = tmp_save_dir + \"{:02d}_\".format(i) + view[\"tag\"] + \".png\"\n",
    "\n",
    "        vis = o3d.visualization.Visualizer()\n",
    "        vis.create_window()\n",
    "        vis.add_geometry(mesh)\n",
    "        vis.set_view_status(json.dumps(view[\"view\"]))\n",
    "        buffer = vis.capture_screen_float_buffer(do_render=True)\n",
    "        image = Image.fromarray((np.asarray(buffer) * 255).astype(np.uint8))\n",
    "        # display(image)\n",
    "        image.save(tmp_save_name)"
   ]
  },
  {
   "cell_type": "markdown",
   "metadata": {},
   "source": [
    "### panoptic fusion"
   ]
  },
  {
   "cell_type": "code",
   "execution_count": 10,
   "metadata": {},
   "outputs": [],
   "source": [
    "extractors = [\"gt_instance\", \"grounded_sam\", \"mask_rcnn\"]"
   ]
  },
  {
   "cell_type": "code",
   "execution_count": 16,
   "metadata": {},
   "outputs": [],
   "source": [
    "for i, ext in enumerate(extractors):\n",
    "    sub_save_dir = save_dir + \"{:02d}_\".format(2 + i) + ext + \"/\"\n",
    "    for scene in scenes:\n",
    "        json_pth = os.path.abspath(\"../../config/views/scannet_\" + scene + \".json\")\n",
    "        with open(json_pth, \"r\") as f:\n",
    "            views = json.load(f)[\"views\"]\n",
    "\n",
    "        load_dir = \"/home/quanta/Experiments/feature-instance-fusion/scannet_\" + scene + \"/\"\n",
    "\n",
    "        tsdf_volume = PanopticFusionScalableTSDFVolume(\n",
    "            voxel_size=0.015,\n",
    "            sdf_trunc=0.075,\n",
    "            margin=0.08,\n",
    "            device=device,\n",
    "        )\n",
    "        tsdf_volume.load(load_dir + \"tsdf/tsdf_volume.pt\")\n",
    "        tsdf_volume.reset_instance()\n",
    "        tsdf_volume.load_instance(load_dir + \"tsdf_panoptic_\" + ext + \"/panoptic_labels.pt\")\n",
    "\n",
    "        verts = np.load(load_dir + \"tsdf/verts.npy\")\n",
    "        faces = np.load(load_dir + \"tsdf/faces.npy\")\n",
    "\n",
    "        color_set = np.random.random(size=(tsdf_volume._instance_label_num, 3))\n",
    "\n",
    "        labels = tsdf_volume.extract_label_on_grid(verts)[0]\n",
    "        color = color_set[labels]\n",
    "        mesh = o3d.geometry.TriangleMesh(\n",
    "            vertices=o3d.utility.Vector3dVector(verts),\n",
    "            triangles=o3d.utility.Vector3iVector(faces),\n",
    "        )\n",
    "        mesh.vertex_colors = o3d.utility.Vector3dVector(color)\n",
    "        for i, view in enumerate(views):\n",
    "            tmp_save_dir = sub_save_dir + scene + \"/\"\n",
    "            # print(tmp_save_dir)\n",
    "            os.makedirs(tmp_save_dir, exist_ok=True)\n",
    "            tmp_save_name = tmp_save_dir + \"{:02d}_\".format(i) + view[\"tag\"] + \".png\"\n",
    "\n",
    "            vis = o3d.visualization.Visualizer()\n",
    "            vis.create_window()\n",
    "            vis.add_geometry(mesh)\n",
    "            vis.set_view_status(json.dumps(view[\"view\"]))\n",
    "            buffer = vis.capture_screen_float_buffer(do_render=True)\n",
    "            image = Image.fromarray((np.asarray(buffer) * 255).astype(np.uint8))\n",
    "            # display(image)\n",
    "            image.save(tmp_save_name)"
   ]
  },
  {
   "cell_type": "markdown",
   "metadata": {},
   "source": [
    "### graph connect"
   ]
  },
  {
   "cell_type": "code",
   "execution_count": 15,
   "metadata": {},
   "outputs": [],
   "source": [
    "sub_save_dir = save_dir + \"05_graph_connect/\"\n",
    "for scene in scenes:\n",
    "    json_pth = os.path.abspath(\"../../config/views/scannet_\" + scene + \".json\")\n",
    "    with open(json_pth, \"r\") as f:\n",
    "        views = json.load(f)[\"views\"]\n",
    "\n",
    "    load_dir = \"/home/quanta/Experiments/feature-instance-fusion/scannet_\" + scene + \"/\"\n",
    "\n",
    "    tsdf_volume = PanopticFusionScalableTSDFVolume(\n",
    "        voxel_size=0.015,\n",
    "        sdf_trunc=0.075,\n",
    "        margin=0.08,\n",
    "        device=device,\n",
    "    )\n",
    "    tsdf_volume.load(load_dir + \"tsdf/tsdf_volume.pt\")\n",
    "    tsdf_volume.reset_instance()\n",
    "    tsdf_volume.load_instance(load_dir + \"tsdf_panoptic_gt_instance/panoptic_labels.pt\")\n",
    "    tsdf_volume._instance = torch.load(load_dir + \"graph_connect_etx-grounded_sam_kmeans-ext-random_grounded_sam_SVP/merged_labels.pt\").to(device)\n",
    "\n",
    "    verts = np.load(load_dir + \"tsdf/verts.npy\")\n",
    "    faces = np.load(load_dir + \"tsdf/faces.npy\")\n",
    "\n",
    "    color_set = np.random.random(size=(1025, 3))\n",
    "\n",
    "    labels = tsdf_volume.extract_label_on_grid(verts)[0]\n",
    "    color = color_set[labels]\n",
    "    mesh = o3d.geometry.TriangleMesh(\n",
    "        vertices=o3d.utility.Vector3dVector(verts),\n",
    "        triangles=o3d.utility.Vector3iVector(faces),\n",
    "    )\n",
    "\n",
    "    mesh.vertex_colors = o3d.utility.Vector3dVector(color)\n",
    "    for i, view in enumerate(views):\n",
    "        tmp_save_dir = sub_save_dir + scene + \"/\"\n",
    "        # print(tmp_save_dir)\n",
    "        os.makedirs(tmp_save_dir, exist_ok=True)\n",
    "        tmp_save_name = tmp_save_dir + \"{:02d}_\".format(i) + view[\"tag\"] + \".png\"\n",
    "\n",
    "        vis = o3d.visualization.Visualizer()\n",
    "        vis.create_window()\n",
    "        vis.add_geometry(mesh)\n",
    "        vis.set_view_status(json.dumps(view[\"view\"]))\n",
    "        # vis.get_render_option().load_from_json(sample_data.render_option_path)\n",
    "        buffer = vis.capture_screen_float_buffer(do_render=True)\n",
    "        image = Image.fromarray((np.asarray(buffer) * 255).astype(np.uint8))\n",
    "        # display(image)\n",
    "        image.save(tmp_save_name)"
   ]
  },
  {
   "cell_type": "markdown",
   "metadata": {},
   "source": [
    "### Guided panoptic fusion using graph connect results"
   ]
  },
  {
   "cell_type": "code",
   "execution_count": 17,
   "metadata": {},
   "outputs": [],
   "source": [
    "sub_save_dir = save_dir + \"06_guided_panoptic_fusion/\"\n",
    "for scene in scenes:\n",
    "    json_pth = os.path.abspath(\"../../config/views/scannet_\" + scene + \".json\")\n",
    "    with open(json_pth, \"r\") as f:\n",
    "        views = json.load(f)[\"views\"]\n",
    "\n",
    "    load_dir = \"/home/quanta/Experiments/feature-instance-fusion/scannet_\" + scene + \"/\"\n",
    "\n",
    "    tsdf_volume = PanopticFusionScalableTSDFVolume(\n",
    "        voxel_size=0.015,\n",
    "        sdf_trunc=0.075,\n",
    "        margin=0.08,\n",
    "        device=device,\n",
    "    )\n",
    "    tsdf_volume.load(load_dir + \"tsdf/tsdf_volume.pt\")\n",
    "    tsdf_volume.reset_instance()\n",
    "    tsdf_volume.load_instance(load_dir + \"tsdf_guided_panoptic_grounded_sam/panoptic_labels.pt\")\n",
    "\n",
    "    verts = np.load(load_dir + \"tsdf/verts.npy\")\n",
    "    faces = np.load(load_dir + \"tsdf/faces.npy\")\n",
    "\n",
    "    color_set = np.random.random(size=(1025, 3))\n",
    "\n",
    "    labels = tsdf_volume.extract_label_on_grid(verts)[0]\n",
    "    color = color_set[labels]\n",
    "    mesh = o3d.geometry.TriangleMesh(\n",
    "        vertices=o3d.utility.Vector3dVector(verts),\n",
    "        triangles=o3d.utility.Vector3iVector(faces),\n",
    "    )\n",
    "\n",
    "    mesh.vertex_colors = o3d.utility.Vector3dVector(color)\n",
    "    for i, view in enumerate(views):\n",
    "        tmp_save_dir = sub_save_dir + scene + \"/\"\n",
    "        # print(tmp_save_dir)\n",
    "        os.makedirs(tmp_save_dir, exist_ok=True)\n",
    "        tmp_save_name = tmp_save_dir + \"{:02d}_\".format(i) + view[\"tag\"] + \".png\"\n",
    "\n",
    "        vis = o3d.visualization.Visualizer()\n",
    "        vis.create_window()\n",
    "        vis.add_geometry(mesh)\n",
    "        vis.set_view_status(json.dumps(view[\"view\"]))\n",
    "        # vis.get_render_option().load_from_json(sample_data.render_option_path)\n",
    "        buffer = vis.capture_screen_float_buffer(do_render=True)\n",
    "        image = Image.fromarray((np.asarray(buffer) * 255).astype(np.uint8))\n",
    "        # display(image)\n",
    "        image.save(tmp_save_name)"
   ]
  },
  {
   "cell_type": "code",
   "execution_count": null,
   "metadata": {},
   "outputs": [],
   "source": []
  }
 ],
 "metadata": {
  "kernelspec": {
   "display_name": "Python 3",
   "language": "python",
   "name": "python3"
  },
  "language_info": {
   "codemirror_mode": {
    "name": "ipython",
    "version": 3
   },
   "file_extension": ".py",
   "mimetype": "text/x-python",
   "name": "python",
   "nbconvert_exporter": "python",
   "pygments_lexer": "ipython3",
   "version": "3.10.4"
  },
  "orig_nbformat": 4
 },
 "nbformat": 4,
 "nbformat_minor": 2
}
