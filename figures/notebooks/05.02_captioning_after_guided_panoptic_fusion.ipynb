{
 "cells": [
  {
   "cell_type": "code",
   "execution_count": 1,
   "metadata": {},
   "outputs": [],
   "source": [
    "import os\n",
    "import sys\n",
    "\n",
    "os.environ[\"CUDA_DEVICE_ORDER\"] = \"PCI_BUS_ID\"\n",
    "\n",
    "module_path = os.path.abspath(os.path.join(\"../..\"))\n",
    "if module_path not in sys.path:\n",
    "    sys.path.append(module_path)"
   ]
  },
  {
   "cell_type": "code",
   "execution_count": 30,
   "metadata": {},
   "outputs": [],
   "source": [
    "import json\n",
    "from collections import Counter\n",
    "\n",
    "import matplotlib.pyplot as plt\n",
    "import numpy as np\n",
    "import open3d as o3d\n",
    "import pandas as pd\n",
    "import torch\n",
    "from PIL import Image\n",
    "from skimage import measure\n",
    "from tqdm import tqdm, trange\n",
    "\n",
    "from core.captioner import ClipCapCaptioner, DeCapCaptioner\n",
    "from core.dataset import ScanNet\n",
    "from core.integrate import FeatureFusionScalableTSDFVolume, ScalableTSDFVolume\n",
    "from core.labeler import CLIPTextQuerier, KMeansLabeler"
   ]
  },
  {
   "cell_type": "code",
   "execution_count": 3,
   "metadata": {},
   "outputs": [],
   "source": [
    "dataset = ScanNet('/home/quanta/Datasets/ScanNet/')\n",
    "scan_id = 'scene0000_00'\n",
    "id = dataset.scan_id_list.index(scan_id)\n",
    "single_instance = dataset[id]['scan_dataset']"
   ]
  },
  {
   "cell_type": "code",
   "execution_count": 7,
   "metadata": {},
   "outputs": [],
   "source": [
    "device = \"cuda:1\""
   ]
  },
  {
   "cell_type": "code",
   "execution_count": 4,
   "metadata": {},
   "outputs": [],
   "source": [
    "save_dir = '/home/quanta/Experiments/feature-instance-fusion/scannet_scene0000_00/'\n",
    "os.makedirs(save_dir, exist_ok=True)\n",
    "# tsdf_feature_lseg/feats.pt\n",
    "# graph_connect_etx-grounded_sam_kmeans-ext-random_grounded_sam_SVP/merged_labels.pt\n",
    "# tsdf_guided_panoptic_grounded_sam corres_004780.pt  panoptic_labels.pt"
   ]
  },
  {
   "cell_type": "code",
   "execution_count": 8,
   "metadata": {},
   "outputs": [],
   "source": [
    "lseg_feats = torch.load(save_dir + \"tsdf_feature_lseg_pruned/feats.pt\")['feat'].to(device)\n",
    "labels = torch.load(save_dir + \"graph_connect_etx-grounded_sam_kmeans-ext-random_grounded_sam_SVP/merged_labels.pt\").to(device)"
   ]
  },
  {
   "cell_type": "code",
   "execution_count": 62,
   "metadata": {},
   "outputs": [],
   "source": [
    "labels = labels.unique(sorted=True, return_inverse=True)[1]"
   ]
  },
  {
   "cell_type": "code",
   "execution_count": 64,
   "metadata": {},
   "outputs": [],
   "source": [
    "voxel_counts = labels.bincount()"
   ]
  },
  {
   "cell_type": "code",
   "execution_count": 65,
   "metadata": {},
   "outputs": [
    {
     "name": "stderr",
     "output_type": "stream",
     "text": [
      "  0%|          | 0/5577 [00:00<?, ?it/s]"
     ]
    },
    {
     "name": "stderr",
     "output_type": "stream",
     "text": [
      "100%|██████████| 5577/5577 [00:10<00:00, 520.40it/s]\n"
     ]
    }
   ],
   "source": [
    "indent = 1\n",
    "\n",
    "string_records = [\"\" for i in range(labels.max().item() + 1)]\n",
    "\n",
    "for idx in trange(5577):\n",
    "    corres_pth = save_dir + \"tsdf_guided_panoptic_grounded_sam/corres_{:06d}.pt\".format(idx)\n",
    "    corres = torch.load(corres_pth, map_location=\"cpu\") - 1 # we add 1 in guided panoptic fusion\n",
    "\n",
    "    data_pth = save_dir + \"grounded_sam/{:06d}.pt\".format(idx)\n",
    "    phrases = torch.load(data_pth)[\"phrases\"]\n",
    "\n",
    "    for i in range(len(phrases)):\n",
    "        string_records[corres[i]] += phrases[i] + \",\""
   ]
  },
  {
   "cell_type": "code",
   "execution_count": 66,
   "metadata": {},
   "outputs": [],
   "source": [
    "total_counts = np.array([Counter(text[:-1].split(\",\")).total() if text != \"\" else 0 for text in string_records])"
   ]
  },
  {
   "cell_type": "code",
   "execution_count": 67,
   "metadata": {},
   "outputs": [],
   "source": [
    "most_common_word = [Counter(text[:-1].split(\",\")).most_common(1)[0][0] if text != \"\" else \"\" for text in string_records]\n",
    "most_common_word_counts = np.array([Counter(text[:-1].split(\",\")).most_common(1)[0][1] if text != \"\" else 0 for text in string_records])"
   ]
  },
  {
   "cell_type": "code",
   "execution_count": 68,
   "metadata": {},
   "outputs": [],
   "source": [
    "second_common_word = [Counter(text[:-1].split(\",\")).most_common(2)[-1][0] if text != \"\" else \"\" for text in string_records]\n",
    "second_common_word_counts = np.array([Counter(text[:-1].split(\",\")).most_common(2)[-1][1] if text != \"\" else 0 for text in string_records])"
   ]
  },
  {
   "cell_type": "code",
   "execution_count": 89,
   "metadata": {},
   "outputs": [
    {
     "data": {
      "text/plain": [
       "<BarContainer object of 50 artists>"
      ]
     },
     "execution_count": 89,
     "metadata": {},
     "output_type": "execute_result"
    },
    {
     "data": {
      "image/png": "[encoded data removed]",
      "text/plain": [
       "<Figure size 640x480 with 1 Axes>"
      ]
     },
     "metadata": {},
     "output_type": "display_data"
    }
   ],
   "source": [
    "plt.hist(np.log(total_counts[total_counts>0]), bins=50)[2]"
   ]
  },
  {
   "cell_type": "code",
   "execution_count": 98,
   "metadata": {},
   "outputs": [
    {
     "name": "stdout",
     "output_type": "stream",
     "text": [
      "2.718281828459045\n"
     ]
    },
    {
     "data": {
      "text/plain": [
       "<BarContainer object of 20 artists>"
      ]
     },
     "execution_count": 98,
     "metadata": {},
     "output_type": "execute_result"
    },
    {
     "data": {
      "image/png": "[encoded data removed]",
      "text/plain": [
       "<Figure size 640x480 with 1 Axes>"
      ]
     },
     "metadata": {},
     "output_type": "display_data"
    }
   ],
   "source": [
    "th = np.exp(1)\n",
    "print(th)\n",
    "plt.hist(voxel_counts[total_counts <= th].log().cpu().numpy(),density=True, bins=20)[2]\n",
    "plt.hist(voxel_counts[total_counts > th].log().cpu().numpy(),density=True, bins=20)[2]"
   ]
  },
  {
   "cell_type": "code",
   "execution_count": 101,
   "metadata": {},
   "outputs": [],
   "source": [
    "filt = (total_counts > 0) * (voxel_counts.cpu().numpy() > 100) # filter out too small voxel patchs and unrecognized voxel patchs"
   ]
  },
  {
   "cell_type": "code",
   "execution_count": 114,
   "metadata": {},
   "outputs": [],
   "source": [
    "filt_total_grounded_sam_recognization = total_counts[filt]\n",
    "filt_voxel_size = voxel_counts.cpu().numpy()[filt]\n",
    "filt_labels = labels.unique(sorted=True)[filt]\n",
    "filt_most_common_word = np.array(most_common_word)[filt]\n",
    "filt_second_common_word = np.array(second_common_word)[filt]\n",
    "filt_second_common_word[filt_second_common_word == filt_most_common_word] = \"\"\n",
    "filt_most_common_word_counts = np.array(most_common_word_counts)[filt]\n",
    "filt_second_common_word_counts = np.array(second_common_word_counts)[filt]"
   ]
  },
  {
   "cell_type": "markdown",
   "metadata": {},
   "source": [
    "### Bounding Box"
   ]
  },
  {
   "cell_type": "code",
   "execution_count": 117,
   "metadata": {},
   "outputs": [],
   "source": [
    "tsdf_device = \"cuda:1\"\n",
    "tsdf_volume = FeatureFusionScalableTSDFVolume(\n",
    "    voxel_size=0.015,\n",
    "    sdf_trunc=0.075,\n",
    "    margin=0.08,\n",
    "    device=\"cuda:1\",\n",
    ")\n",
    "tsdf_volume.load(save_dir + \"tsdf/tsdf_volume.pt\")"
   ]
  },
  {
   "cell_type": "code",
   "execution_count": 118,
   "metadata": {},
   "outputs": [],
   "source": [
    "from core.integrate.utils.tsdf_ops import hash2discrete, discrete2world"
   ]
  },
  {
   "cell_type": "code",
   "execution_count": 135,
   "metadata": {},
   "outputs": [],
   "source": [
    "# bboxes = []  # xyzhwd\n",
    "# for label in filt_labels:\n",
    "#     hashes = tsdf_volume._voxel_hash[labels == label]\n",
    "\n",
    "#     world_c = discrete2world(\n",
    "#         discrete_coord=hash2discrete(hashes),\n",
    "#         voxel_size=tsdf_volume.voxel_size,\n",
    "#         voxel_origin=tsdf_volume._vol_origin,\n",
    "#     )\n",
    "\n",
    "#     r = world_c.min(dim=0)[0]\n",
    "#     dr = world_c.max(dim=0)[0] - world_c.min(dim=0)[0]\n",
    "\n",
    "#     bboxes.append(r.tolist() + dr.tolist())\n",
    "\n",
    "#     print(dr.tolist())\n",
    "\n",
    "# bboxes = np.array(bboxes)"
   ]
  },
  {
   "cell_type": "markdown",
   "metadata": {},
   "source": [
    "This bbox is very noisy, most of it have non localized voxels"
   ]
  },
  {
   "cell_type": "code",
   "execution_count": 149,
   "metadata": {},
   "outputs": [],
   "source": [
    "import open3d as o3d\n",
    "\n",
    "draw = o3d.visualization.EV.draw\n",
    "pcd = o3d.geometry.PointCloud()"
   ]
  },
  {
   "cell_type": "code",
   "execution_count": 168,
   "metadata": {},
   "outputs": [],
   "source": [
    "pcd.points = o3d.utility.Vector3dVector(\n",
    "    discrete2world(\n",
    "        discrete_coord=hash2discrete(tsdf_volume._voxel_hash),\n",
    "        voxel_size=tsdf_volume.voxel_size,\n",
    "        voxel_origin=tsdf_volume._vol_origin,\n",
    "    )\n",
    "    .cpu()\n",
    "    .numpy()\n",
    ")\n",
    "pcd.colors = o3d.utility.Vector3dVector((labels != filt_labels[27]).float().reshape(-1, 1).expand(-1, 3).cpu().numpy())"
   ]
  },
  {
   "cell_type": "code",
   "execution_count": 169,
   "metadata": {},
   "outputs": [],
   "source": [
    "# to visualize\n",
    "# draw([pcd])"
   ]
  },
  {
   "cell_type": "markdown",
   "metadata": {},
   "source": [
    "compare with LSeg"
   ]
  },
  {
   "cell_type": "code",
   "execution_count": 184,
   "metadata": {},
   "outputs": [],
   "source": [
    "from torch.nn.functional import normalize\n",
    "from core.labeler import CLIPTextQuerier\n",
    "\n",
    "decap = DeCapCaptioner(\n",
    "    decap_ckpt=\"/home/quanta/Models/decap/coco_prefix-009.pt\",\n",
    "    device=tsdf_device,\n",
    ")\n",
    "decap.load_model()\n",
    "clip_text = CLIPTextQuerier(device=tsdf_device)\n",
    "clip_text.load_model()"
   ]
  },
  {
   "cell_type": "code",
   "execution_count": 194,
   "metadata": {},
   "outputs": [],
   "source": [
    "decoded_text = []\n",
    "sim_decode = []\n",
    "sim_most_common = []\n",
    "sim_second_common = []\n",
    "for i, label in enumerate(filt_labels):\n",
    "    feat = normalize(lseg_feats[labels == label].mean(dim=0), dim=-1)\n",
    "\n",
    "    text_decode = decap.get_caption(feat)\n",
    "    emb = normalize(clip_text.encode_text(text_decode).squeeze(0), dim=-1)\n",
    "    sim = torch.einsum(\"i,i->\", emb.cpu(), feat.cpu())\n",
    "    sim_decode.append(sim.item())\n",
    "    decoded_text.append(text_decode)\n",
    "\n",
    "    emb = normalize(clip_text.encode_text(filt_most_common_word[i]).squeeze(0), dim=-1)\n",
    "    sim = torch.einsum(\"i,i->\", emb.cpu(), feat.cpu())\n",
    "    sim_most_common.append(sim.item())\n",
    "\n",
    "    if str(filt_most_common_word[i]) != \"\":\n",
    "        emb = normalize(clip_text.encode_text(filt_second_common_word[i]).squeeze(0), dim=-1)\n",
    "        sim = torch.einsum(\"i,i->\", emb.cpu(), feat.cpu())\n",
    "        sim_second_common.append(sim.item())\n",
    "    else:\n",
    "        sim_second_common.append(0)\n",
    "        print(\"!!!\")"
   ]
  },
  {
   "cell_type": "code",
   "execution_count": 208,
   "metadata": {},
   "outputs": [],
   "source": [
    "df = pd.DataFrame(\n",
    "    zip(\n",
    "        filt_labels.tolist(),\n",
    "        filt_voxel_size,\n",
    "        filt_total_grounded_sam_recognization,\n",
    "        filt_most_common_word,\n",
    "        filt_most_common_word_counts,\n",
    "        filt_most_common_word_counts / filt_total_grounded_sam_recognization,\n",
    "        sim_most_common,\n",
    "        filt_second_common_word,\n",
    "        filt_second_common_word_counts,\n",
    "        filt_second_common_word_counts / filt_total_grounded_sam_recognization,\n",
    "        sim_second_common,\n",
    "        decoded_text,\n",
    "        sim_decode,\n",
    "    ),\n",
    "    columns=[\n",
    "        \"label_id\",\n",
    "        \"voxel_size\",\n",
    "        \"recog_times\",\n",
    "        \"most_common_word\",\n",
    "        \"most_common_counts\",\n",
    "        \"most_common_frac\",\n",
    "        \"most_common_lseg_sim\",\n",
    "        \"second_common_word\",\n",
    "        \"second_common_counts\",\n",
    "        \"second_common_frac\",\n",
    "        \"second_common_lseg_sim\",\n",
    "        \"lseg_decode\",\n",
    "        \"decode_lseg_sim\",\n",
    "    ],\n",
    ").sort_values(by=['voxel_size'], ascending=False)"
   ]
  },
  {
   "cell_type": "code",
   "execution_count": 210,
   "metadata": {},
   "outputs": [
    {
     "data": {
      "text/html": [
       "<div>\n",
       "<style scoped>\n",
       "    .dataframe tbody tr th:only-of-type {\n",
       "        vertical-align: middle;\n",
       "    }\n",
       "\n",
       "    .dataframe tbody tr th {\n",
       "        vertical-align: top;\n",
       "    }\n",
       "\n",
       "    .dataframe thead th {\n",
       "        text-align: right;\n",
       "    }\n",
       "</style>\n",
       "<table border=\"1\" class=\"dataframe\">\n",
       "  <thead>\n",
       "    <tr style=\"text-align: right;\">\n",
       "      <th></th>\n",
       "      <th>label_id</th>\n",
       "      <th>voxel_size</th>\n",
       "      <th>recog_times</th>\n",
       "      <th>most_common_word</th>\n",
       "      <th>most_common_counts</th>\n",
       "      <th>most_common_frac</th>\n",
       "      <th>most_common_lseg_sim</th>\n",
       "      <th>second_common_word</th>\n",
       "      <th>second_common_counts</th>\n",
       "      <th>second_common_frac</th>\n",
       "      <th>second_common_lseg_sim</th>\n",
       "      <th>lseg_decode</th>\n",
       "      <th>decode_lseg_sim</th>\n",
       "    </tr>\n",
       "  </thead>\n",
       "  <tbody>\n",
       "    <tr>\n",
       "      <th>10</th>\n",
       "      <td>20</td>\n",
       "      <td>397842</td>\n",
       "      <td>1717</td>\n",
       "      <td>curtain</td>\n",
       "      <td>575</td>\n",
       "      <td>0.334886</td>\n",
       "      <td>0.924165</td>\n",
       "      <td>shower curtain</td>\n",
       "      <td>237</td>\n",
       "      <td>0.138031</td>\n",
       "      <td>0.784132</td>\n",
       "      <td>a wall with the word</td>\n",
       "      <td>0.885212</td>\n",
       "    </tr>\n",
       "    <tr>\n",
       "      <th>7</th>\n",
       "      <td>14</td>\n",
       "      <td>214293</td>\n",
       "      <td>4975</td>\n",
       "      <td>floor</td>\n",
       "      <td>4046</td>\n",
       "      <td>0.813266</td>\n",
       "      <td>0.894589</td>\n",
       "      <td>bag</td>\n",
       "      <td>207</td>\n",
       "      <td>0.041608</td>\n",
       "      <td>0.717892</td>\n",
       "      <td>a floor of a floor of a room</td>\n",
       "      <td>0.902900</td>\n",
       "    </tr>\n",
       "    <tr>\n",
       "      <th>0</th>\n",
       "      <td>0</td>\n",
       "      <td>124812</td>\n",
       "      <td>2687</td>\n",
       "      <td>carpet</td>\n",
       "      <td>648</td>\n",
       "      <td>0.241161</td>\n",
       "      <td>0.876939</td>\n",
       "      <td>pillow</td>\n",
       "      <td>443</td>\n",
       "      <td>0.164868</td>\n",
       "      <td>0.855180</td>\n",
       "      <td>a couch</td>\n",
       "      <td>0.931840</td>\n",
       "    </tr>\n",
       "    <tr>\n",
       "      <th>39</th>\n",
       "      <td>65</td>\n",
       "      <td>51560</td>\n",
       "      <td>1011</td>\n",
       "      <td>bed</td>\n",
       "      <td>569</td>\n",
       "      <td>0.562809</td>\n",
       "      <td>0.988740</td>\n",
       "      <td>blanket</td>\n",
       "      <td>72</td>\n",
       "      <td>0.071217</td>\n",
       "      <td>0.776335</td>\n",
       "      <td>a bed</td>\n",
       "      <td>0.961436</td>\n",
       "    </tr>\n",
       "    <tr>\n",
       "      <th>46</th>\n",
       "      <td>80</td>\n",
       "      <td>50930</td>\n",
       "      <td>105</td>\n",
       "      <td>tile wall</td>\n",
       "      <td>52</td>\n",
       "      <td>0.495238</td>\n",
       "      <td>0.836182</td>\n",
       "      <td>kitchen</td>\n",
       "      <td>28</td>\n",
       "      <td>0.266667</td>\n",
       "      <td>0.752575</td>\n",
       "      <td>the wall of a wall with a lot of other</td>\n",
       "      <td>0.907773</td>\n",
       "    </tr>\n",
       "    <tr>\n",
       "      <th>...</th>\n",
       "      <td>...</td>\n",
       "      <td>...</td>\n",
       "      <td>...</td>\n",
       "      <td>...</td>\n",
       "      <td>...</td>\n",
       "      <td>...</td>\n",
       "      <td>...</td>\n",
       "      <td>...</td>\n",
       "      <td>...</td>\n",
       "      <td>...</td>\n",
       "      <td>...</td>\n",
       "      <td>...</td>\n",
       "      <td>...</td>\n",
       "    </tr>\n",
       "    <tr>\n",
       "      <th>153</th>\n",
       "      <td>412</td>\n",
       "      <td>226</td>\n",
       "      <td>1</td>\n",
       "      <td>##sock</td>\n",
       "      <td>1</td>\n",
       "      <td>1.000000</td>\n",
       "      <td>0.789086</td>\n",
       "      <td></td>\n",
       "      <td>1</td>\n",
       "      <td>1.000000</td>\n",
       "      <td>0.863692</td>\n",
       "      <td>a cabinet of the cabinet</td>\n",
       "      <td>0.935260</td>\n",
       "    </tr>\n",
       "    <tr>\n",
       "      <th>44</th>\n",
       "      <td>76</td>\n",
       "      <td>178</td>\n",
       "      <td>1</td>\n",
       "      <td>ceiling</td>\n",
       "      <td>1</td>\n",
       "      <td>1.000000</td>\n",
       "      <td>0.803734</td>\n",
       "      <td></td>\n",
       "      <td>1</td>\n",
       "      <td>1.000000</td>\n",
       "      <td>0.850569</td>\n",
       "      <td>a curtain</td>\n",
       "      <td>0.966246</td>\n",
       "    </tr>\n",
       "    <tr>\n",
       "      <th>62</th>\n",
       "      <td>115</td>\n",
       "      <td>168</td>\n",
       "      <td>2</td>\n",
       "      <td>faucet</td>\n",
       "      <td>1</td>\n",
       "      <td>0.500000</td>\n",
       "      <td>0.790915</td>\n",
       "      <td>footstall</td>\n",
       "      <td>1</td>\n",
       "      <td>0.500000</td>\n",
       "      <td>0.828425</td>\n",
       "      <td>a door with some kind of wall</td>\n",
       "      <td>0.900741</td>\n",
       "    </tr>\n",
       "    <tr>\n",
       "      <th>164</th>\n",
       "      <td>450</td>\n",
       "      <td>167</td>\n",
       "      <td>2</td>\n",
       "      <td>toilet paper</td>\n",
       "      <td>2</td>\n",
       "      <td>1.000000</td>\n",
       "      <td>0.805034</td>\n",
       "      <td></td>\n",
       "      <td>2</td>\n",
       "      <td>1.000000</td>\n",
       "      <td>0.852265</td>\n",
       "      <td>a refrigerator</td>\n",
       "      <td>0.945472</td>\n",
       "    </tr>\n",
       "    <tr>\n",
       "      <th>114</th>\n",
       "      <td>285</td>\n",
       "      <td>162</td>\n",
       "      <td>1</td>\n",
       "      <td>bottle</td>\n",
       "      <td>1</td>\n",
       "      <td>1.000000</td>\n",
       "      <td>0.860039</td>\n",
       "      <td></td>\n",
       "      <td>1</td>\n",
       "      <td>1.000000</td>\n",
       "      <td>0.885287</td>\n",
       "      <td>a wall with the other</td>\n",
       "      <td>0.955067</td>\n",
       "    </tr>\n",
       "  </tbody>\n",
       "</table>\n",
       "<p>178 rows × 13 columns</p>\n",
       "</div>"
      ],
      "text/plain": [
       "     label_id  voxel_size  recog_times most_common_word  most_common_counts  \\\n",
       "10         20      397842         1717          curtain                 575   \n",
       "7          14      214293         4975            floor                4046   \n",
       "0           0      124812         2687           carpet                 648   \n",
       "39         65       51560         1011              bed                 569   \n",
       "46         80       50930          105        tile wall                  52   \n",
       "..        ...         ...          ...              ...                 ...   \n",
       "153       412         226            1           ##sock                   1   \n",
       "44         76         178            1          ceiling                   1   \n",
       "62        115         168            2           faucet                   1   \n",
       "164       450         167            2     toilet paper                   2   \n",
       "114       285         162            1           bottle                   1   \n",
       "\n",
       "     most_common_frac  most_common_lseg_sim second_common_word  \\\n",
       "10           0.334886              0.924165     shower curtain   \n",
       "7            0.813266              0.894589                bag   \n",
       "0            0.241161              0.876939             pillow   \n",
       "39           0.562809              0.988740            blanket   \n",
       "46           0.495238              0.836182            kitchen   \n",
       "..                ...                   ...                ...   \n",
       "153          1.000000              0.789086                      \n",
       "44           1.000000              0.803734                      \n",
       "62           0.500000              0.790915          footstall   \n",
       "164          1.000000              0.805034                      \n",
       "114          1.000000              0.860039                      \n",
       "\n",
       "     second_common_counts  second_common_frac  second_common_lseg_sim  \\\n",
       "10                    237            0.138031                0.784132   \n",
       "7                     207            0.041608                0.717892   \n",
       "0                     443            0.164868                0.855180   \n",
       "39                     72            0.071217                0.776335   \n",
       "46                     28            0.266667                0.752575   \n",
       "..                    ...                 ...                     ...   \n",
       "153                     1            1.000000                0.863692   \n",
       "44                      1            1.000000                0.850569   \n",
       "62                      1            0.500000                0.828425   \n",
       "164                     2            1.000000                0.852265   \n",
       "114                     1            1.000000                0.885287   \n",
       "\n",
       "                                 lseg_decode  decode_lseg_sim  \n",
       "10                     a wall with the word          0.885212  \n",
       "7              a floor of a floor of a room          0.902900  \n",
       "0                                   a couch          0.931840  \n",
       "39                                    a bed          0.961436  \n",
       "46   the wall of a wall with a lot of other          0.907773  \n",
       "..                                       ...              ...  \n",
       "153                a cabinet of the cabinet          0.935260  \n",
       "44                                a curtain          0.966246  \n",
       "62            a door with some kind of wall          0.900741  \n",
       "164                          a refrigerator          0.945472  \n",
       "114                   a wall with the other          0.955067  \n",
       "\n",
       "[178 rows x 13 columns]"
      ]
     },
     "execution_count": 210,
     "metadata": {},
     "output_type": "execute_result"
    }
   ],
   "source": [
    "df"
   ]
  },
  {
   "cell_type": "code",
   "execution_count": 211,
   "metadata": {},
   "outputs": [],
   "source": [
    "df_save_dir = '../05_panoptic_fusion/07_recog/'\n",
    "os.makedirs(df_save_dir, exist_ok=True)\n",
    "df.to_csv(df_save_dir + 'stats.csv', index=False)"
   ]
  },
  {
   "cell_type": "code",
   "execution_count": null,
   "metadata": {},
   "outputs": [],
   "source": []
  }
 ],
 "metadata": {
  "kernelspec": {
   "display_name": "feat-seg-fusion",
   "language": "python",
   "name": "python3"
  },
  "language_info": {
   "codemirror_mode": {
    "name": "ipython",
    "version": 3
   },
   "file_extension": ".py",
   "mimetype": "text/x-python",
   "name": "python",
   "nbconvert_exporter": "python",
   "pygments_lexer": "ipython3",
   "version": "3.10.4"
  },
  "orig_nbformat": 4
 },
 "nbformat": 4,
 "nbformat_minor": 2
}
