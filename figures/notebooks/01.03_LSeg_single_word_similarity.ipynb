{
 "cells": [
  {
   "cell_type": "code",
   "execution_count": 1,
   "metadata": {},
   "outputs": [],
   "source": [
    "import os\n",
    "import sys\n",
    "\n",
    "os.environ[\"CUDA_DEVICE_ORDER\"] = \"PCI_BUS_ID\"\n",
    "\n",
    "module_path = os.path.abspath(os.path.join(\"../..\"))\n",
    "if module_path not in sys.path:\n",
    "    sys.path.append(module_path)"
   ]
  },
  {
   "cell_type": "code",
   "execution_count": 2,
   "metadata": {},
   "outputs": [],
   "source": [
    "import json\n",
    "\n",
    "import matplotlib.pyplot as plt\n",
    "import numpy as np\n",
    "import open3d as o3d\n",
    "import torch\n",
    "from PIL import Image\n",
    "\n",
    "from core.integrate import FeatureFusionScalableTSDFVolume\n",
    "from core.dataset import ScanNet\n",
    "from core.labeler import CLIPTextQuerier, KMeansLabeler"
   ]
  },
  {
   "cell_type": "code",
   "execution_count": 3,
   "metadata": {},
   "outputs": [
    {
     "data": {
      "text/plain": [
       "True"
      ]
     },
     "execution_count": 3,
     "metadata": {},
     "output_type": "execute_result"
    }
   ],
   "source": [
    "o3d._build_config[\"ENABLE_HEADLESS_RENDERING\"]"
   ]
  },
  {
   "cell_type": "code",
   "execution_count": 4,
   "metadata": {},
   "outputs": [],
   "source": [
    "scene = \"scannet_scene0000_00\"\n",
    "save_dir = \"/home/quanta/Experiments/feature-instance-fusion/\" + scene + \"/\""
   ]
  },
  {
   "cell_type": "code",
   "execution_count": 5,
   "metadata": {},
   "outputs": [],
   "source": [
    "json_pth = os.path.abspath(\"../../config/views/\" + scene + \".json\")\n",
    "with open(json_pth, \"r\") as f:\n",
    "    views = json.load(f)['views']"
   ]
  },
  {
   "cell_type": "code",
   "execution_count": 6,
   "metadata": {},
   "outputs": [],
   "source": [
    "tsdf_device = \"cuda:1\"\n",
    "tsdf_volume = FeatureFusionScalableTSDFVolume(\n",
    "    voxel_size=0.015,\n",
    "    sdf_trunc=0.075,\n",
    "    margin=0.08,\n",
    "    device=\"cuda:1\",\n",
    ")\n",
    "tsdf_volume.load(save_dir + \"tsdf/tsdf_volume_unpruned.pt\")\n",
    "verts = np.load(save_dir + \"tsdf/verts.npy\")\n",
    "faces = np.load(save_dir + \"tsdf/faces.npy\")\n",
    "tsdf_volume.load_feats(save_dir + \"tsdf_feature_lseg/feats.pt\")"
   ]
  },
  {
   "cell_type": "code",
   "execution_count": 7,
   "metadata": {},
   "outputs": [],
   "source": [
    "verts_feats = tsdf_volume.extract_feat_on_grid(verts=verts, device='cpu')[0]"
   ]
  },
  {
   "cell_type": "code",
   "execution_count": 8,
   "metadata": {},
   "outputs": [],
   "source": [
    "clip_querier = CLIPTextQuerier(device='cuda:1')\n",
    "clip_querier.load_model()"
   ]
  },
  {
   "cell_type": "code",
   "execution_count": 24,
   "metadata": {},
   "outputs": [],
   "source": [
    "scores = clip_querier.single_text_score(\n",
    "    text=\"The door is near the refrigerator.\",\n",
    "    img_feats=torch.from_numpy(verts_feats),\n",
    ")"
   ]
  },
  {
   "cell_type": "code",
   "execution_count": 25,
   "metadata": {},
   "outputs": [
    {
     "data": {
      "text/plain": [
       "<BarContainer object of 100 artists>"
      ]
     },
     "execution_count": 25,
     "metadata": {},
     "output_type": "execute_result"
    },
    {
     "data": {
      "image/png": "[encoded data removed]",
      "text/plain": [
       "<Figure size 640x480 with 1 Axes>"
      ]
     },
     "metadata": {},
     "output_type": "display_data"
    }
   ],
   "source": [
    "plt.hist(scores, bins=100)[2]"
   ]
  },
  {
   "cell_type": "code",
   "execution_count": 26,
   "metadata": {},
   "outputs": [],
   "source": [
    "scores = np.clip(scores, 0.6, 1.0)\n",
    "# scores = (scores - scores.min()) / (scores.max() - scores.min())"
   ]
  },
  {
   "cell_type": "code",
   "execution_count": 32,
   "metadata": {},
   "outputs": [
    {
     "data": {
      "image/png": "[encoded data removed]",
      "text/plain": [
       "<Figure size 640x480 with 2 Axes>"
      ]
     },
     "metadata": {},
     "output_type": "display_data"
    }
   ],
   "source": [
    "plt.scatter(x=[0, 1],y=[0, 1], c=[0, 1], cmap='plasma')\n",
    "plt.colorbar()\n",
    "plt.savefig('temp.pdf')"
   ]
  },
  {
   "cell_type": "code",
   "execution_count": 12,
   "metadata": {},
   "outputs": [],
   "source": [
    "color = clip_querier.score_to_color(score=scores, scheme=\"jet\", normalize=True)"
   ]
  },
  {
   "cell_type": "code",
   "execution_count": 13,
   "metadata": {},
   "outputs": [],
   "source": [
    "mesh = o3d.geometry.TriangleMesh(\n",
    "    vertices=o3d.utility.Vector3dVector(verts),\n",
    "    triangles=o3d.utility.Vector3iVector(faces),\n",
    ")\n",
    "# mesh.compute_vertex_normals()\n",
    "mesh.vertex_colors = o3d.utility.Vector3dVector(color)"
   ]
  },
  {
   "cell_type": "code",
   "execution_count": 14,
   "metadata": {},
   "outputs": [],
   "source": [
    "save_dir = \"../01_LSeg/03_single_word_similarity_plot/\"\n",
    "os.makedirs(save_dir, exist_ok=True)"
   ]
  },
  {
   "cell_type": "code",
   "execution_count": 15,
   "metadata": {},
   "outputs": [],
   "source": [
    "for i, view in enumerate(views):\n",
    "    vis = o3d.visualization.Visualizer()\n",
    "    vis.create_window()\n",
    "    vis.add_geometry(mesh)\n",
    "    vis.set_view_status(json.dumps(view[\"view\"]))\n",
    "    buffer = vis.capture_screen_float_buffer(do_render=True)\n",
    "    image = Image.fromarray((np.asarray(buffer) * 255).astype(np.uint8))\n",
    "    # display(image)\n",
    "    image.save(save_dir + \"{:02d}_\".format(i) + view[\"tag\"] + \".png\")"
   ]
  },
  {
   "cell_type": "code",
   "execution_count": null,
   "metadata": {},
   "outputs": [],
   "source": []
  }
 ],
 "metadata": {
  "kernelspec": {
   "display_name": "Python 3",
   "language": "python",
   "name": "python3"
  },
  "language_info": {
   "codemirror_mode": {
    "name": "ipython",
    "version": 3
   },
   "file_extension": ".py",
   "mimetype": "text/x-python",
   "name": "python",
   "nbconvert_exporter": "python",
   "pygments_lexer": "ipython3",
   "version": "3.10.4"
  },
  "orig_nbformat": 4
 },
 "nbformat": 4,
 "nbformat_minor": 2
}
